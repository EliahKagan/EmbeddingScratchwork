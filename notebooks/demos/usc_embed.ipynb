{
 "cells": [
  {
   "cell_type": "code",
   "execution_count": 1,
   "id": "c5211530-89cb-4d2e-a799-82c6854358f3",
   "metadata": {},
   "outputs": [],
   "source": [
    "import logging\n",
    "from pathlib import Path\n",
    "\n",
    "from lxml import etree as ET\n",
    "import polars as pl\n",
    "\n",
    "import embed\n",
    "from embed.demos import usc"
   ]
  },
  {
   "cell_type": "code",
   "execution_count": 2,
   "id": "fbbd6188-babf-417f-b4ad-dd06f427cf69",
   "metadata": {},
   "outputs": [],
   "source": [
    "# Consider switching to DEBUG if this doesn't produce enough info.\n",
    "logging.basicConfig(level=logging.INFO)"
   ]
  },
  {
   "cell_type": "code",
   "execution_count": 3,
   "id": "64f022b9-b5f5-4910-87d1-d39345553e1d",
   "metadata": {},
   "outputs": [
    {
     "data": {
      "text/plain": [
       "polars.config.Config"
      ]
     },
     "execution_count": 3,
     "metadata": {},
     "output_type": "execute_result"
    }
   ],
   "source": [
    "pl.Config.set_fmt_str_lengths(100)"
   ]
  },
  {
   "cell_type": "code",
   "execution_count": 4,
   "id": "b2e129a9-6468-4020-9755-deb1910ef2f2",
   "metadata": {},
   "outputs": [],
   "source": [
    "data_dir = Path('../../data/usc/')\n",
    "usc.extract_usc(data_dir, download=True)\n",
    "usc42root = ET.parse(data_dir / usc.USC_STEM / 'usc42.xml').getroot()"
   ]
  },
  {
   "cell_type": "code",
   "execution_count": 5,
   "id": "c93293cd-51a0-43ea-ab38-9854fa12215b",
   "metadata": {},
   "outputs": [],
   "source": [
    "# For now, we work just with sections small enough to embed without spliting.\n",
    "sections = usc.get_direct_sections(usc42root)"
   ]
  },
  {
   "cell_type": "code",
   "execution_count": 6,
   "id": "6e997cbb-710a-4959-95e5-a47fc22c7064",
   "metadata": {},
   "outputs": [],
   "source": [
    "# What we want to do: \n",
    "#  Save serializatinos of sections that are embeddeable"
   ]
  },
  {
   "cell_type": "code",
   "execution_count": 7,
   "id": "34dd34bf-56d6-4df8-b6fd-2ba46e584a99",
   "metadata": {},
   "outputs": [],
   "source": [
    "# identifier, status, text\n",
    "# identifier, status, text, embedding"
   ]
  },
  {
   "cell_type": "code",
   "execution_count": 8,
   "id": "ab0dfbb0-e1b5-44d3-b0d6-cb1dcc244243",
   "metadata": {},
   "outputs": [],
   "source": [
    "df = pl.DataFrame(\n",
    "    {\n",
    "        \"Identifier\": section.attrib['identifier'], \n",
    "        \"Status\": section.get('status'),\n",
    "        \"Text\": text,\n",
    "    }\n",
    "    for section in sections[100:110]  # FIXME: After initial testing, stop slicing.\n",
    "    if embed.count_tokens(text := usc.serialize_xml_clean(section)) <= embed.TOKEN_LIMIT\n",
    ")"
   ]
  },
  {
   "cell_type": "code",
   "execution_count": 9,
   "id": "4b817a96-ff1f-4498-8bd3-6cd819b3abf6",
   "metadata": {},
   "outputs": [
    {
     "data": {
      "text/html": [
       "<div><style>\n",
       ".dataframe > thead > tr > th,\n",
       ".dataframe > tbody > tr > td {\n",
       "  text-align: right;\n",
       "}\n",
       "</style>\n",
       "<small>shape: (10, 3)</small><table border=\"1\" class=\"dataframe\"><thead><tr><th>Identifier</th><th>Status</th><th>Text</th></tr><tr><td>str</td><td>bool</td><td>str</td></tr></thead><tbody><tr><td>&quot;/us/usc/t42/s238b&quot;</td><td>null</td><td>&quot;&lt;section xmlns=&quot;http://xml.house.gov/schemas/uslm/1.0&quot;&gt;&lt;num&gt;§ 238b.&lt;/num&gt;&lt;heading&gt; Disposition of m…</td></tr><tr><td>&quot;/us/usc/t42/s238c&quot;</td><td>null</td><td>&quot;&lt;section xmlns=&quot;http://xml.house.gov/schemas/uslm/1.0&quot;&gt;&lt;num&gt;§ 238c.&lt;/num&gt;&lt;heading&gt; Transportation o…</td></tr><tr><td>&quot;/us/usc/t42/s238d&quot;</td><td>null</td><td>&quot;&lt;section xmlns=&quot;http://xml.house.gov/schemas/uslm/1.0&quot;&gt;&lt;num&gt;§ 238d.&lt;/num&gt;&lt;heading&gt; Availability of …</td></tr><tr><td>&quot;/us/usc/t42/s238e&quot;</td><td>null</td><td>&quot;&lt;section xmlns=&quot;http://xml.house.gov/schemas/uslm/1.0&quot;&gt;&lt;num&gt;§ 238e.&lt;/num&gt;&lt;heading&gt; Transfer of fund…</td></tr><tr><td>&quot;/us/usc/t42/s238f&quot;</td><td>null</td><td>&quot;&lt;section xmlns=&quot;http://xml.house.gov/schemas/uslm/1.0&quot;&gt;&lt;num&gt;§ 238f.&lt;/num&gt;&lt;heading&gt; Availability of …</td></tr><tr><td>&quot;/us/usc/t42/s238g&quot;</td><td>null</td><td>&quot;&lt;section xmlns=&quot;http://xml.house.gov/schemas/uslm/1.0&quot;&gt;&lt;num&gt;§ 238g.&lt;/num&gt;&lt;heading&gt; Wearing of unifo…</td></tr><tr><td>&quot;/us/usc/t42/s238h&quot;</td><td>null</td><td>&quot;&lt;section xmlns=&quot;http://xml.house.gov/schemas/uslm/1.0&quot;&gt;&lt;num&gt;§ 238h.&lt;/num&gt;&lt;heading&gt; Biennial report&lt;…</td></tr><tr><td>&quot;/us/usc/t42/s238i&quot;</td><td>null</td><td>&quot;&lt;section xmlns=&quot;http://xml.house.gov/schemas/uslm/1.0&quot;&gt;&lt;num&gt;§ 238i.&lt;/num&gt;&lt;heading&gt; Memorials and ot…</td></tr><tr><td>&quot;/us/usc/t42/s238j&quot;</td><td>null</td><td>&quot;&lt;section xmlns=&quot;http://xml.house.gov/schemas/uslm/1.0&quot;&gt;&lt;num&gt;§ 238j.&lt;/num&gt;&lt;heading&gt; Evaluation of pr…</td></tr><tr><td>&quot;/us/usc/t42/s238k&quot;</td><td>null</td><td>&quot;&lt;section xmlns=&quot;http://xml.house.gov/schemas/uslm/1.0&quot;&gt;&lt;num&gt;§ 238k.&lt;/num&gt;&lt;heading&gt; Contract authori…</td></tr></tbody></table></div>"
      ],
      "text/plain": [
       "shape: (10, 3)\n",
       "┌───────────────────┬────────┬────────────────────────────────────────────────────────────────────────────────────┐\n",
       "│ Identifier        ┆ Status ┆ Text                                                                               │\n",
       "│ ---               ┆ ---    ┆ ---                                                                                │\n",
       "│ str               ┆ bool   ┆ str                                                                                │\n",
       "╞═══════════════════╪════════╪════════════════════════════════════════════════════════════════════════════════════╡\n",
       "│ /us/usc/t42/s238b ┆ null   ┆ <section xmlns=\"http://xml.house.gov/schemas/uslm/1.0\"><num>§ 238b.</num><heading> │\n",
       "│                   ┆        ┆ Disposition of mo…                                                                 │\n",
       "│ /us/usc/t42/s238c ┆ null   ┆ <section xmlns=\"http://xml.house.gov/schemas/uslm/1.0\"><num>§ 238c.</num><heading> │\n",
       "│                   ┆        ┆ Transportation of…                                                                 │\n",
       "│ /us/usc/t42/s238d ┆ null   ┆ <section xmlns=\"http://xml.house.gov/schemas/uslm/1.0\"><num>§ 238d.</num><heading> │\n",
       "│                   ┆        ┆ Availability of a…                                                                 │\n",
       "│ /us/usc/t42/s238e ┆ null   ┆ <section xmlns=\"http://xml.house.gov/schemas/uslm/1.0\"><num>§ 238e.</num><heading> │\n",
       "│                   ┆        ┆ Transfer of funds…                                                                 │\n",
       "│ …                 ┆ …      ┆ …                                                                                  │\n",
       "│ /us/usc/t42/s238h ┆ null   ┆ <section xmlns=\"http://xml.house.gov/schemas/uslm/1.0\"><num>§ 238h.</num><heading> │\n",
       "│                   ┆        ┆ Biennial report</…                                                                 │\n",
       "│ /us/usc/t42/s238i ┆ null   ┆ <section xmlns=\"http://xml.house.gov/schemas/uslm/1.0\"><num>§ 238i.</num><heading> │\n",
       "│                   ┆        ┆ Memorials and oth…                                                                 │\n",
       "│ /us/usc/t42/s238j ┆ null   ┆ <section xmlns=\"http://xml.house.gov/schemas/uslm/1.0\"><num>§ 238j.</num><heading> │\n",
       "│                   ┆        ┆ Evaluation of pro…                                                                 │\n",
       "│ /us/usc/t42/s238k ┆ null   ┆ <section xmlns=\"http://xml.house.gov/schemas/uslm/1.0\"><num>§ 238k.</num><heading> │\n",
       "│                   ┆        ┆ Contract authorit…                                                                 │\n",
       "└───────────────────┴────────┴────────────────────────────────────────────────────────────────────────────────────┘"
      ]
     },
     "execution_count": 9,
     "metadata": {},
     "output_type": "execute_result"
    }
   ],
   "source": [
    "df"
   ]
  },
  {
   "cell_type": "code",
   "execution_count": 10,
   "id": "e4a29dd9-b124-4f82-9373-b86fadfd4b1d",
   "metadata": {},
   "outputs": [
    {
     "data": {
      "text/plain": [
       "'<section xmlns=\"http://xml.house.gov/schemas/uslm/1.0\"><num>§\\u202f238b.</num><heading> Disposition of money collected for care of patients</heading><content>\\n<p>Money collected as provided by law for expenses incurred in the care and treatment of foreign seamen, and money received for the care and treatment of pay patients, including any amounts received from any executive department on account of care and treatment of pay patients, shall be covered into the appropriation from which the expenses of such care and treatment were paid.</p>\\n</content><sourceCredit>(<ref>July 1, 1944, ch. 373</ref>, title II, §\\u202f233, formerly title V, §\\u202f503, <ref>58 Stat. 710</ref>, renumbered title XXI, §\\u202f2103, <ref>Pub. L. 98–24, §\\u202f2(a)(1)</ref>, <date>Apr. 26, 1983</date>, <ref>97 Stat. 176</ref>; renumbered title XXIII, §\\u202f2303, <ref>Pub. L. 99–660, title III, §\\u202f311(a)</ref>, <date>Nov. 14, 1986</date>, <ref>100 Stat. 3755</ref>; renumbered title XXV, §\\u202f2503, <ref>Pub. L. 100–607, title II, §\\u202f201(1)</ref>, (2), <date>Nov. 4, 1988</date>, <ref>102 Stat. 3062</ref>; renumbered title XXVI, §\\u202f2603, <ref>Pub. L. 100–690, title II, §\\u202f2620(a)</ref>, <date>Nov. 18, 1988</date>, <ref>102 Stat. 4244</ref>; renumbered title XXVII, §\\u202f2703, <ref>Pub. L. 101–381, title I, §\\u202f101(1)</ref>, (2), <date>Aug. 18, 1990</date>, <ref>104 Stat. 576</ref>; renumbered title II, §\\u202f233, <ref>Pub. L. 103–43, title XX, §\\u202f2010(a)(1)</ref>–(3), <date>June 10, 1993</date>, <ref>107 Stat. 213</ref>.)</sourceCredit>\\n<notes>\\n<note><heading><b>Editorial Notes</b></heading></note>\\n<note><heading>Codification</heading>\\n<p>Section was formerly classified to <ref>section 300aaa–2 of this title</ref> prior to renumbering by <ref>Pub. L. 103–43</ref>, to <ref>section 300cc–2 of this title</ref> prior to renumbering by <ref>Pub. L. 100–607</ref>, to <ref>section 300aa–2 of this title</ref> prior to renumbering by <ref>Pub. L. 99–660</ref>, and to <ref>section 221 of this title</ref> prior to renumbering by <ref>Pub. L. 98–24</ref>.</p>\\n</note>\\n</notes>\\n</section>\\n'"
      ]
     },
     "execution_count": 10,
     "metadata": {},
     "output_type": "execute_result"
    }
   ],
   "source": [
    "# df.filter(pl.col('Identifier') == '/us/usc/t42/s1...1j').get_column('Text')[0]\n",
    "df['Text'][0]"
   ]
  },
  {
   "cell_type": "code",
   "execution_count": 11,
   "id": "820ca992-b632-4b3d-9d81-d29a0cec830a",
   "metadata": {},
   "outputs": [
    {
     "data": {
      "text/plain": [
       "False"
      ]
     },
     "execution_count": 11,
     "metadata": {},
     "output_type": "execute_result"
    }
   ],
   "source": [
    "from collections.abc import Sequence\n",
    "isinstance(df['Text'], Sequence)"
   ]
  },
  {
   "cell_type": "code",
   "execution_count": 12,
   "id": "ccb78a94-8c73-424a-bccf-92e98d111c84",
   "metadata": {},
   "outputs": [
    {
     "data": {
      "text/plain": [
       "polars.series.series.Series"
      ]
     },
     "execution_count": 12,
     "metadata": {},
     "output_type": "execute_result"
    }
   ],
   "source": [
    "type(df['Text'])"
   ]
  },
  {
   "cell_type": "code",
   "execution_count": 13,
   "id": "8f6116d3-4005-485c-baee-a5d5089139ad",
   "metadata": {},
   "outputs": [
    {
     "data": {
      "text/plain": [
       "'<section xmlns=\"http://xml.house.gov/schemas/uslm/1.0\"><num>§\\u202f238b.</num><heading> Disposition of money collected for care of patients</heading><content>\\n<p>Money collected as provided by law for expenses incurred in the care and treatment of foreign seamen, and money received for the care and treatment of pay patients, including any amounts received from any executive department on account of care and treatment of pay patients, shall be covered into the appropriation from which the expenses of such care and treatment were paid.</p>\\n</content><sourceCredit>(<ref>July 1, 1944, ch. 373</ref>, title II, §\\u202f233, formerly title V, §\\u202f503, <ref>58 Stat. 710</ref>, renumbered title XXI, §\\u202f2103, <ref>Pub. L. 98–24, §\\u202f2(a)(1)</ref>, <date>Apr. 26, 1983</date>, <ref>97 Stat. 176</ref>; renumbered title XXIII, §\\u202f2303, <ref>Pub. L. 99–660, title III, §\\u202f311(a)</ref>, <date>Nov. 14, 1986</date>, <ref>100 Stat. 3755</ref>; renumbered title XXV, §\\u202f2503, <ref>Pub. L. 100–607, title II, §\\u202f201(1)</ref>, (2), <date>Nov. 4, 1988</date>, <ref>102 Stat. 3062</ref>; renumbered title XXVI, §\\u202f2603, <ref>Pub. L. 100–690, title II, §\\u202f2620(a)</ref>, <date>Nov. 18, 1988</date>, <ref>102 Stat. 4244</ref>; renumbered title XXVII, §\\u202f2703, <ref>Pub. L. 101–381, title I, §\\u202f101(1)</ref>, (2), <date>Aug. 18, 1990</date>, <ref>104 Stat. 576</ref>; renumbered title II, §\\u202f233, <ref>Pub. L. 103–43, title XX, §\\u202f2010(a)(1)</ref>–(3), <date>June 10, 1993</date>, <ref>107 Stat. 213</ref>.)</sourceCredit>\\n<notes>\\n<note><heading><b>Editorial Notes</b></heading></note>\\n<note><heading>Codification</heading>\\n<p>Section was formerly classified to <ref>section 300aaa–2 of this title</ref> prior to renumbering by <ref>Pub. L. 103–43</ref>, to <ref>section 300cc–2 of this title</ref> prior to renumbering by <ref>Pub. L. 100–607</ref>, to <ref>section 300aa–2 of this title</ref> prior to renumbering by <ref>Pub. L. 99–660</ref>, and to <ref>section 221 of this title</ref> prior to renumbering by <ref>Pub. L. 98–24</ref>.</p>\\n</note>\\n</notes>\\n</section>\\n'"
      ]
     },
     "execution_count": 13,
     "metadata": {},
     "output_type": "execute_result"
    }
   ],
   "source": [
    "df['Text'][0]"
   ]
  },
  {
   "cell_type": "code",
   "execution_count": 14,
   "id": "cff70137-9cab-4de5-a90f-49b100054726",
   "metadata": {},
   "outputs": [],
   "source": [
    "texts = df['Text'].to_list()"
   ]
  },
  {
   "cell_type": "code",
   "execution_count": 15,
   "id": "2e731ec0-49f0-4500-80dc-f841ebcdd72f",
   "metadata": {},
   "outputs": [
    {
     "data": {
      "text/plain": [
       "10"
      ]
     },
     "execution_count": 15,
     "metadata": {},
     "output_type": "execute_result"
    }
   ],
   "source": [
    "len(texts)"
   ]
  },
  {
   "cell_type": "code",
   "execution_count": 16,
   "id": "0108f66f-2ffb-404c-a2a3-62137d4d4c3d",
   "metadata": {},
   "outputs": [],
   "source": [
    "embeddings = embed.embed_many(texts)"
   ]
  },
  {
   "cell_type": "code",
   "execution_count": 17,
   "id": "c0aa7d6b-edfb-4e6e-af7d-ef03c5e2135f",
   "metadata": {},
   "outputs": [
    {
     "data": {
      "text/plain": [
       "array([[ 0.01002261,  0.01300304,  0.02757402, ..., -0.02876348,\n",
       "        -0.01050246, -0.02968262],\n",
       "       [ 0.00114846,  0.01286544,  0.00877311, ..., -0.01285876,\n",
       "        -0.00676706, -0.01158826],\n",
       "       [ 0.00323707,  0.0193338 , -0.00365216, ..., -0.02534527,\n",
       "         0.00191468, -0.02210328],\n",
       "       ...,\n",
       "       [-0.00553012,  0.02558189,  0.00691265, ..., -0.02263429,\n",
       "        -0.00694984, -0.02980047],\n",
       "       [-0.01751399,  0.01630028, -0.0036444 , ..., -0.01440793,\n",
       "        -0.00047431, -0.03774252],\n",
       "       [-0.0020269 ,  0.01241931, -0.00832583, ..., -0.0173791 ,\n",
       "         0.00873584, -0.02766901]], dtype=float32)"
      ]
     },
     "execution_count": 17,
     "metadata": {},
     "output_type": "execute_result"
    }
   ],
   "source": [
    "embeddings"
   ]
  },
  {
   "cell_type": "code",
   "execution_count": 18,
   "id": "60ca0bd4-7938-4be2-91d6-5c93b8b29a36",
   "metadata": {},
   "outputs": [],
   "source": [
    "query = embeddings @ embed.embed_one('laying people of rank to rest when they have died')"
   ]
  },
  {
   "cell_type": "code",
   "execution_count": 19,
   "id": "c511db66-ed44-4743-9f5b-bedefe922701",
   "metadata": {},
   "outputs": [
    {
     "data": {
      "text/plain": [
       "array([0.7257557 , 0.78433096, 0.7010728 , 0.71104324, 0.72935516,\n",
       "       0.74076974, 0.7150748 , 0.723279  , 0.6990161 , 0.6882933 ],\n",
       "      dtype=float32)"
      ]
     },
     "execution_count": 19,
     "metadata": {},
     "output_type": "execute_result"
    }
   ],
   "source": [
    "query"
   ]
  },
  {
   "cell_type": "code",
   "execution_count": 20,
   "id": "d49d273e-8b16-4dc1-9dba-e17cc9eab1bd",
   "metadata": {},
   "outputs": [
    {
     "data": {
      "text/plain": [
       "1"
      ]
     },
     "execution_count": 20,
     "metadata": {},
     "output_type": "execute_result"
    }
   ],
   "source": [
    "query.argmax()"
   ]
  },
  {
   "cell_type": "code",
   "execution_count": null,
   "id": "9439149e-fe12-4d52-bb0f-324ffcb7b64d",
   "metadata": {},
   "outputs": [],
   "source": []
  }
 ],
 "metadata": {
  "kernelspec": {
   "display_name": "Python 3 (ipykernel)",
   "language": "python",
   "name": "python3"
  },
  "language_info": {
   "codemirror_mode": {
    "name": "ipython",
    "version": 3
   },
   "file_extension": ".py",
   "mimetype": "text/x-python",
   "name": "python",
   "nbconvert_exporter": "python",
   "pygments_lexer": "ipython3",
   "version": "3.11.4"
  }
 },
 "nbformat": 4,
 "nbformat_minor": 5
}
