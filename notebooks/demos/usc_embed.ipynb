{
 "cells": [
  {
   "cell_type": "code",
   "execution_count": 1,
   "id": "c5211530-89cb-4d2e-a799-82c6854358f3",
   "metadata": {},
   "outputs": [],
   "source": [
    "import logging\n",
    "from pathlib import Path\n",
    "\n",
    "from lxml import etree as ET\n",
    "import polars as pl\n",
    "\n",
    "import embed\n",
    "from embed.demos import usc"
   ]
  },
  {
   "cell_type": "code",
   "execution_count": 2,
   "id": "fbbd6188-babf-417f-b4ad-dd06f427cf69",
   "metadata": {},
   "outputs": [],
   "source": [
    "# Consider switching to DEBUG if this doesn't produce enough info.\n",
    "logging.basicConfig(level=logging.INFO)"
   ]
  },
  {
   "cell_type": "code",
   "execution_count": 17,
   "id": "64f022b9-b5f5-4910-87d1-d39345553e1d",
   "metadata": {},
   "outputs": [
    {
     "data": {
      "text/plain": [
       "polars.config.Config"
      ]
     },
     "execution_count": 17,
     "metadata": {},
     "output_type": "execute_result"
    }
   ],
   "source": [
    "pl.Config.set_fmt_str_lengths(100)"
   ]
  },
  {
   "cell_type": "code",
   "execution_count": 3,
   "id": "b2e129a9-6468-4020-9755-deb1910ef2f2",
   "metadata": {},
   "outputs": [],
   "source": [
    "data_dir = Path('../../data/usc/')\n",
    "usc.extract_usc(data_dir, download=True)\n",
    "usc42root = ET.parse(data_dir / usc.USC_STEM / 'usc42.xml').getroot()"
   ]
  },
  {
   "cell_type": "code",
   "execution_count": 4,
   "id": "c93293cd-51a0-43ea-ab38-9854fa12215b",
   "metadata": {},
   "outputs": [],
   "source": [
    "# For now, we work just with sections small enough to embed without spliting.\n",
    "sections = usc.get_direct_sections(usc42root)"
   ]
  },
  {
   "cell_type": "code",
   "execution_count": 5,
   "id": "6e997cbb-710a-4959-95e5-a47fc22c7064",
   "metadata": {},
   "outputs": [],
   "source": [
    "# What we want to do: \n",
    "#  Save serializatinos of sections that are embeddeable"
   ]
  },
  {
   "cell_type": "code",
   "execution_count": 6,
   "id": "34dd34bf-56d6-4df8-b6fd-2ba46e584a99",
   "metadata": {},
   "outputs": [],
   "source": [
    "# identifier, status, text\n",
    "# identifier, status, text, embedding"
   ]
  },
  {
   "cell_type": "code",
   "execution_count": 7,
   "id": "ab0dfbb0-e1b5-44d3-b0d6-cb1dcc244243",
   "metadata": {},
   "outputs": [],
   "source": [
    "df = pl.DataFrame(\n",
    "    {\n",
    "        \"Identifier\": section.attrib['identifier'], \n",
    "        \"Status\": section.get('status'),\n",
    "        \"Text\": text,\n",
    "    }\n",
    "    for section in sections[:10]  # FIXME: After initial testing, stop slicing.\n",
    "    if embed.count_tokens(text := usc.serialize_xml_clean(section)) <= embed.TOKEN_LIMIT\n",
    ")"
   ]
  },
  {
   "cell_type": "code",
   "execution_count": 19,
   "id": "4b817a96-ff1f-4498-8bd3-6cd819b3abf6",
   "metadata": {},
   "outputs": [
    {
     "data": {
      "text/html": [
       "<div><style>\n",
       ".dataframe > thead > tr > th,\n",
       ".dataframe > tbody > tr > td {\n",
       "  text-align: right;\n",
       "}\n",
       "</style>\n",
       "<small>shape: (10, 3)</small><table border=\"1\" class=\"dataframe\"><thead><tr><th>Identifier</th><th>Status</th><th>Text</th></tr><tr><td>str</td><td>str</td><td>str</td></tr></thead><tbody><tr><td>&quot;/us/usc/t42/s1...1j&quot;</td><td>&quot;repealed&quot;</td><td>&quot;&lt;section xmlns=&quot;http://xml.house.gov/schemas/uslm/1.0&quot;&gt;&lt;num&gt;§§ 1 to 1j.&lt;/num&gt;&lt;heading&gt; Repealed. &lt;r…</td></tr><tr><td>&quot;/us/usc/t42/s2&quot;</td><td>&quot;omitted&quot;</td><td>&quot;&lt;section xmlns=&quot;http://xml.house.gov/schemas/uslm/1.0&quot;&gt;&lt;num&gt;§ 2.&lt;/num&gt;&lt;heading&gt; Omitted&lt;/heading&gt;&lt;n…</td></tr><tr><td>&quot;/us/usc/t42/s3 /us/usc/t42/s4&quot;</td><td>&quot;repealed&quot;</td><td>&quot;&lt;section xmlns=&quot;http://xml.house.gov/schemas/uslm/1.0&quot;&gt;&lt;num&gt;§§ 3, 4.&lt;/num&gt;&lt;heading&gt; Repealed. &lt;ref&gt;…</td></tr><tr><td>&quot;/us/usc/t42/s5&quot;</td><td>&quot;omitted&quot;</td><td>&quot;&lt;section xmlns=&quot;http://xml.house.gov/schemas/uslm/1.0&quot;&gt;&lt;num&gt;§ 5.&lt;/num&gt;&lt;heading&gt; Omitted&lt;/heading&gt;&lt;n…</td></tr><tr><td>&quot;/us/usc/t42/s6...15a&quot;</td><td>&quot;repealed&quot;</td><td>&quot;&lt;section xmlns=&quot;http://xml.house.gov/schemas/uslm/1.0&quot;&gt;&lt;num&gt;§§ 6 to 15a.&lt;/num&gt;&lt;heading&gt; Repealed. &lt;…</td></tr><tr><td>&quot;/us/usc/t42/s16&quot;</td><td>&quot;omitted&quot;</td><td>&quot;&lt;section xmlns=&quot;http://xml.house.gov/schemas/uslm/1.0&quot;&gt;&lt;num&gt;§ 16.&lt;/num&gt;&lt;heading&gt; Omitted&lt;/heading&gt;&lt;…</td></tr><tr><td>&quot;/us/usc/t42/s17...25e&quot;</td><td>&quot;repealed&quot;</td><td>&quot;&lt;section xmlns=&quot;http://xml.house.gov/schemas/uslm/1.0&quot;&gt;&lt;num&gt;§§ 17 to 25e.&lt;/num&gt;&lt;heading&gt; Repealed. …</td></tr><tr><td>&quot;/us/usc/t42/s26&quot;</td><td>null</td><td>&quot;&lt;section xmlns=&quot;http://xml.house.gov/schemas/uslm/1.0&quot;&gt;&lt;num&gt;§ 26.&lt;/num&gt;&lt;heading&gt; Isolation of civil…</td></tr><tr><td>&quot;/us/usc/t42/s27&quot;</td><td>null</td><td>&quot;&lt;section xmlns=&quot;http://xml.house.gov/schemas/uslm/1.0&quot;&gt;&lt;num&gt;§ 27.&lt;/num&gt;&lt;heading&gt; Definitions&lt;/headi…</td></tr><tr><td>&quot;/us/usc/t42/s28...43&quot;</td><td>&quot;repealed&quot;</td><td>&quot;&lt;section xmlns=&quot;http://xml.house.gov/schemas/uslm/1.0&quot;&gt;&lt;num&gt;§§ 28 to 43.&lt;/num&gt;&lt;heading&gt; Repealed. &lt;…</td></tr></tbody></table></div>"
      ],
      "text/plain": [
       "shape: (10, 3)\n",
       "┌───────────────────────────────┬──────────┬──────────────────────────────────────────────────────────────────────┐\n",
       "│ Identifier                    ┆ Status   ┆ Text                                                                 │\n",
       "│ ---                           ┆ ---      ┆ ---                                                                  │\n",
       "│ str                           ┆ str      ┆ str                                                                  │\n",
       "╞═══════════════════════════════╪══════════╪══════════════════════════════════════════════════════════════════════╡\n",
       "│ /us/usc/t42/s1...1j           ┆ repealed ┆ <section xmlns=\"http://xml.house.gov/schemas/uslm/1.0\"><num>§§ 1 to  │\n",
       "│                               ┆          ┆ 1j.</num><heading> Repealed. <re…                                    │\n",
       "│ /us/usc/t42/s2                ┆ omitted  ┆ <section xmlns=\"http://xml.house.gov/schemas/uslm/1.0\"><num>§ 2.</nu │\n",
       "│                               ┆          ┆ m><heading> Omitted</heading><no…                                    │\n",
       "│ /us/usc/t42/s3 /us/usc/t42/s4 ┆ repealed ┆ <section xmlns=\"http://xml.house.gov/schemas/uslm/1.0\"><num>§§ 3,    │\n",
       "│                               ┆          ┆ 4.</num><heading> Repealed. <ref>J…                                  │\n",
       "│ /us/usc/t42/s5                ┆ omitted  ┆ <section xmlns=\"http://xml.house.gov/schemas/uslm/1.0\"><num>§ 5.</nu │\n",
       "│                               ┆          ┆ m><heading> Omitted</heading><no…                                    │\n",
       "│ …                             ┆ …        ┆ …                                                                    │\n",
       "│ /us/usc/t42/s17...25e         ┆ repealed ┆ <section xmlns=\"http://xml.house.gov/schemas/uslm/1.0\"><num>§§ 17 to │\n",
       "│                               ┆          ┆ 25e.</num><heading> Repealed. <…                                     │\n",
       "│ /us/usc/t42/s26               ┆ null     ┆ <section xmlns=\"http://xml.house.gov/schemas/uslm/1.0\"><num>§ 26.</n │\n",
       "│                               ┆          ┆ um><heading> Isolation of civili…                                    │\n",
       "│ /us/usc/t42/s27               ┆ null     ┆ <section xmlns=\"http://xml.house.gov/schemas/uslm/1.0\"><num>§ 27.</n │\n",
       "│                               ┆          ┆ um><heading> Definitions</headin…                                    │\n",
       "│ /us/usc/t42/s28...43          ┆ repealed ┆ <section xmlns=\"http://xml.house.gov/schemas/uslm/1.0\"><num>§§ 28 to │\n",
       "│                               ┆          ┆ 43.</num><heading> Repealed. <r…                                     │\n",
       "└───────────────────────────────┴──────────┴──────────────────────────────────────────────────────────────────────┘"
      ]
     },
     "execution_count": 19,
     "metadata": {},
     "output_type": "execute_result"
    }
   ],
   "source": [
    "df"
   ]
  },
  {
   "cell_type": "code",
   "execution_count": 27,
   "id": "e4a29dd9-b124-4f82-9373-b86fadfd4b1d",
   "metadata": {},
   "outputs": [
    {
     "data": {
      "text/plain": [
       "'<section xmlns=\"http://xml.house.gov/schemas/uslm/1.0\"><num>§§\\u202f1 to 1j.</num><heading> Repealed. <ref>July 1, 1944, ch. 373</ref>, title XIII, §\\u202f1313, <ref>58 Stat. 714</ref></heading><notes>\\n<note>\\n<p>Section 1, acts <ref>July 1, 1902, ch. 1370, §\\u202f1</ref>, <ref>32 Stat. 712</ref>; <ref>Aug. 14, 1912, ch. 288, §\\u202f1</ref>, <ref>37 Stat. 309</ref>, provided that Public Health and Marine Hospital Service should be known as the Public Health Service. See <ref>section 202 of this title</ref>.</p>\\n</note>\\n<note>\\n<p>Section 1a, <ref>act Nov. 11, 1943, ch. 298, §\\u202f1</ref>, <ref>57 Stat. 587</ref>, provided for organization and function of Public Health Service. See <ref>section 203 of this title</ref>.</p>\\n</note>\\n<note>\\n<p>Section 1b, <ref>act Nov. 11, 1943, ch. 298, §\\u202f2</ref>, <ref>57 Stat. 587</ref>, provided for appointment of Assistant Surgeons General, their grade, pay, and allowances. See sections 206, 207, and 210 of this title.</p>\\n</note>\\n<note>\\n<p>Section 1c, <ref>act Nov. 11, 1943, ch. 298, §\\u202f3</ref>, <ref>57 Stat. 587</ref>, provided for chiefs of divisions, their grade, pay and allowances, and creation of a Dental Division and a Sanitary Engineering Division. See sections 206, 207, and 210 of this title.</p>\\n</note>\\n<note>\\n<p>Section 1d, <ref>act Nov. 11, 1943, ch. 298, §\\u202f4</ref>, <ref>57 Stat. 587</ref>, provided for temporary promotions in regular corps in time of war. See <ref>section 211 of this title</ref>.</p>\\n</note>\\n<note>\\n<p>Section 1e, <ref>act Nov. 11, 1943, ch. 298, §\\u202f5</ref>, <ref>58 Stat. 588</ref>, provided for review of record of officers above grade of assistant surgeon and their separation from service. See <ref>section 211 of this title</ref>.</p>\\n</note>\\n<note>\\n<p>Section 1f, <ref>act Nov. 11, 1943, ch. 298, §\\u202f6</ref>, <ref>58 Stat. 588</ref>, provided for an acting Surgeon General during absence of Surgeon General and Assistant to Surgeon General. See <ref>section 206 of this title</ref>.</p>\\n</note>\\n<note>\\n<p>Section 1g, <ref>act Nov. 11, 1943, ch. 298, §\\u202f7</ref>, <ref>57 Stat. 588</ref>, provided for death and disability benefits of commissioned officers during war and for transfer of Service to military forces. See sections 213 and 217 of this title.</p>\\n</note>\\n<note>\\n<p>Section 1h, <ref>act Nov. 11, 1943, ch. 298, §\\u202f8</ref>, <ref>57 Stat. 589</ref>, provided for commissioned officers’ benefits as civil officers and employees of United States and election of benefits. See Title 5, Government Organization and Employees.</p>\\n</note>\\n<note>\\n<p>Section 1i, <ref>act Nov. 11, 1943, ch. 298, §\\u202f9</ref>, <ref>57 Stat. 589</ref>, provided for beneficiaries’ benefits where commissioned officer lost his life on active duty between <date>Dec. 7, 1941</date>, and <date>Nov. 11, 1943</date>.</p>\\n</note>\\n<note>\\n<p>Section 1j, <ref>act Nov. 11, 1943, ch. 298, §\\u202f11</ref>, <ref>57 Stat. 589</ref>, provided for transfer of appropriations to continue transferred functions. See note set out under <ref>section 201 of this title</ref>.</p>\\n</note>\\n<note><heading><b>Statutory Notes and Related Subsidiaries</b></heading></note>\\n<note><heading>Renumbering and Repeal of Repealing Act</heading><p>Title XIII, §\\u202f1313, formerly title VI, §\\u202f611, of act <date>July 1, 1944</date>, which repealed these sections, was renumbered title VII, §\\u202f711, by <ref>act Aug. 13, 1946, ch. 958, §\\u202f5</ref>, <ref>60 Stat. 1049</ref>; §\\u202f713, by <ref>act Feb. 28, 1948, ch. 83, §\\u202f9(b)</ref>, <ref>62 Stat. 47</ref>; title VIII, §\\u202f813, by <ref>act July 30, 1956, ch. 779, §\\u202f3(b)</ref>, <ref>70 Stat. 721</ref>; title IX, §\\u202f913, by <ref>Pub. L. 88–581, §\\u202f4(b)</ref>, <date>Sept. 4, 1964</date>, <ref>78 Stat. 919</ref>; title X, §\\u202f1013, by <ref>Pub. L. 89–239, §\\u202f3(b)</ref>, <date>Oct. 6, 1965</date>, <ref>79 Stat. 931</ref>; title XI, §\\u202f1113, by <ref>Pub. L. 91–572, §\\u202f6(b)</ref>, <date>Dec. 24, 1970</date>, <ref>84 Stat. 1506</ref>; title XII, §\\u202f1213, by <ref>Pub. L. 92–294, §\\u202f3(b)</ref>, <date>May 16, 1972</date>, <ref>86 Stat. 137</ref>; title XIII, §\\u202f1313, by <ref>Pub. L. 93–154, §\\u202f2(b)(2)</ref>, <date>Nov. 16, 1973</date>, <ref>87 Stat. 604</ref>, and was repealed by <ref>Pub. L. 93–222, §\\u202f7(b)</ref>, <date>Dec. 29, 1973</date>, <ref>87 Stat. 936</ref>.</p>\\n</note>\\n</notes>\\n</section>\\n'"
      ]
     },
     "execution_count": 27,
     "metadata": {},
     "output_type": "execute_result"
    }
   ],
   "source": [
    "df.filter(pl.col('Identifier') == '/us/usc/t42/s1...1j').get_column('Text')[0]"
   ]
  },
  {
   "cell_type": "code",
   "execution_count": null,
   "id": "820ca992-b632-4b3d-9d81-d29a0cec830a",
   "metadata": {},
   "outputs": [],
   "source": []
  }
 ],
 "metadata": {
  "kernelspec": {
   "display_name": "Python 3 (ipykernel)",
   "language": "python",
   "name": "python3"
  },
  "language_info": {
   "codemirror_mode": {
    "name": "ipython",
    "version": 3
   },
   "file_extension": ".py",
   "mimetype": "text/x-python",
   "name": "python",
   "nbconvert_exporter": "python",
   "pygments_lexer": "ipython3",
   "version": "3.11.4"
  }
 },
 "nbformat": 4,
 "nbformat_minor": 5
}
