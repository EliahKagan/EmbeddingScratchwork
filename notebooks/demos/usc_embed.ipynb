{
 "cells": [
  {
   "cell_type": "code",
   "execution_count": null,
   "id": "c5211530-89cb-4d2e-a799-82c6854358f3",
   "metadata": {},
   "outputs": [],
   "source": [
    "import embed\n",
    "from embed.demos import usc"
   ]
  },
  {
   "cell_type": "code",
   "execution_count": null,
   "id": "5a387ae0-fd92-4e06-81ab-1b2295131bdc",
   "metadata": {},
   "outputs": [],
   "source": [
    "# What we want to do: \n",
    "#  Save serializatinos of sections that are embeddeable\n",
    "\n",
    "    \n",
    "{   \n",
    "    section.attrib['identifier']: text for section in usc.get_direct_sections(root)\n",
    "    if embed.count_tokens(text := usc.serialize_xml_clean(section)) <= embed.TOKEN_LIMIT\n",
    "}\n"
   ]
  },
  {
   "cell_type": "code",
   "execution_count": null,
   "id": "34dd34bf-56d6-4df8-b6fd-2ba46e584a99",
   "metadata": {},
   "outputs": [],
   "source": [
    "# identifier, status, text\n",
    "# identifier, status, text, embedding"
   ]
  }
 ],
 "metadata": {
  "kernelspec": {
   "display_name": "Python 3 (ipykernel)",
   "language": "python",
   "name": "python3"
  },
  "language_info": {
   "codemirror_mode": {
    "name": "ipython",
    "version": 3
   },
   "file_extension": ".py",
   "mimetype": "text/x-python",
   "name": "python",
   "nbconvert_exporter": "python",
   "pygments_lexer": "ipython3",
   "version": "3.11.4"
  }
 },
 "nbformat": 4,
 "nbformat_minor": 5
}
