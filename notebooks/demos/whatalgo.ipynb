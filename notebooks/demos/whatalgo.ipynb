{
 "cells": [
  {
   "cell_type": "code",
   "execution_count": 1,
   "metadata": {},
   "outputs": [],
   "source": [
    "from embed.demos import whatalgo"
   ]
  },
  {
   "cell_type": "code",
   "execution_count": 2,
   "metadata": {},
   "outputs": [
    {
     "ename": "AttributeError",
     "evalue": "'NoneType' object has no attribute 'decompose'",
     "output_type": "error",
     "traceback": [
      "\u001b[0;31m---------------------------------------------------------------------------\u001b[0m",
      "\u001b[0;31mAttributeError\u001b[0m                            Traceback (most recent call last)",
      "Cell \u001b[0;32mIn[2], line 1\u001b[0m\n\u001b[0;32m----> 1\u001b[0m sections \u001b[39m=\u001b[39m whatalgo\u001b[39m.\u001b[39;49mget_known_names()\n\u001b[1;32m      2\u001b[0m \u001b[39mfor\u001b[39;00m section \u001b[39min\u001b[39;00m sections:\n\u001b[1;32m      3\u001b[0m     \u001b[39mprint\u001b[39m(section)\n",
      "File \u001b[0;32m~/repos-wsl/EmbeddingScratchwork/embed/demos/whatalgo/__init__.py:31\u001b[0m, in \u001b[0;36mget_known_names\u001b[0;34m()\u001b[0m\n\u001b[1;32m     29\u001b[0m \u001b[39mdef\u001b[39;00m \u001b[39mget_known_names\u001b[39m():\n\u001b[1;32m     30\u001b[0m \u001b[39m    \u001b[39m\u001b[39m\"\"\"Retrieve some names of algorithms and data structures from Wikiedia.\"\"\"\u001b[39;00m\n\u001b[0;32m---> 31\u001b[0m     \u001b[39mreturn\u001b[39;00m [\n\u001b[1;32m     32\u001b[0m         element\u001b[39m.\u001b[39;49mtext\n\u001b[1;32m     33\u001b[0m         \u001b[39mfor\u001b[39;49;00m article_title \u001b[39min\u001b[39;49;00m _ARTICLE_TITLES\n\u001b[1;32m     34\u001b[0m         \u001b[39m# if section.title not in _SKIP_SECTIONS  # FIXME: Do something here.\u001b[39;49;00m\n\u001b[1;32m     35\u001b[0m         \u001b[39mfor\u001b[39;49;00m element \u001b[39min\u001b[39;49;00m _get_article(article_title)\u001b[39m.\u001b[39;49mfind_all(\u001b[39m'\u001b[39;49m\u001b[39mli\u001b[39;49m\u001b[39m'\u001b[39;49m)\n\u001b[1;32m     36\u001b[0m         \u001b[39mif\u001b[39;49;00m \u001b[39mnot\u001b[39;49;00m element\u001b[39m.\u001b[39;49mfind(\u001b[39m'\u001b[39;49m\u001b[39mul\u001b[39;49m\u001b[39m'\u001b[39;49m)  \u001b[39m# Filter out non-leaf list items.\u001b[39;49;00m\n\u001b[1;32m     37\u001b[0m     ]\n",
      "File \u001b[0;32m~/repos-wsl/EmbeddingScratchwork/embed/demos/whatalgo/__init__.py:35\u001b[0m, in \u001b[0;36m<listcomp>\u001b[0;34m(.0)\u001b[0m\n\u001b[1;32m     29\u001b[0m \u001b[39mdef\u001b[39;00m \u001b[39mget_known_names\u001b[39m():\n\u001b[1;32m     30\u001b[0m \u001b[39m    \u001b[39m\u001b[39m\"\"\"Retrieve some names of algorithms and data structures from Wikiedia.\"\"\"\u001b[39;00m\n\u001b[1;32m     31\u001b[0m     \u001b[39mreturn\u001b[39;00m [\n\u001b[1;32m     32\u001b[0m         element\u001b[39m.\u001b[39mtext\n\u001b[1;32m     33\u001b[0m         \u001b[39mfor\u001b[39;00m article_title \u001b[39min\u001b[39;00m _ARTICLE_TITLES\n\u001b[1;32m     34\u001b[0m         \u001b[39m# if section.title not in _SKIP_SECTIONS  # FIXME: Do something here.\u001b[39;00m\n\u001b[0;32m---> 35\u001b[0m         \u001b[39mfor\u001b[39;00m element \u001b[39min\u001b[39;00m _get_article(article_title)\u001b[39m.\u001b[39mfind_all(\u001b[39m'\u001b[39m\u001b[39mli\u001b[39m\u001b[39m'\u001b[39m)\n\u001b[1;32m     36\u001b[0m         \u001b[39mif\u001b[39;00m \u001b[39mnot\u001b[39;00m element\u001b[39m.\u001b[39mfind(\u001b[39m'\u001b[39m\u001b[39mul\u001b[39m\u001b[39m'\u001b[39m)  \u001b[39m# Filter out non-leaf list items.\u001b[39;00m\n\u001b[1;32m     37\u001b[0m     ]\n",
      "File \u001b[0;32m~/repos-wsl/EmbeddingScratchwork/embed/demos/whatalgo/__init__.py:25\u001b[0m, in \u001b[0;36m_get_article\u001b[0;34m(title)\u001b[0m\n\u001b[1;32m     23\u001b[0m response\u001b[39m.\u001b[39mraise_for_status()\n\u001b[1;32m     24\u001b[0m doc \u001b[39m=\u001b[39m bs4\u001b[39m.\u001b[39mBeautifulSoup(response\u001b[39m.\u001b[39mtext, features\u001b[39m=\u001b[39m\u001b[39m'\u001b[39m\u001b[39mhtml.parser\u001b[39m\u001b[39m'\u001b[39m)\n\u001b[0;32m---> 25\u001b[0m doc\u001b[39m.\u001b[39;49mfind(\u001b[39m'\u001b[39;49m\u001b[39mdiv\u001b[39;49m\u001b[39m'\u001b[39;49m, attrs\u001b[39m=\u001b[39;49m{\u001b[39m'\u001b[39;49m\u001b[39mid\u001b[39;49m\u001b[39m'\u001b[39;49m: \u001b[39m'\u001b[39;49m\u001b[39mtoc\u001b[39;49m\u001b[39m'\u001b[39;49m}, recursive\u001b[39m=\u001b[39;49m\u001b[39mTrue\u001b[39;49;00m)\u001b[39m.\u001b[39;49mdecompose()\n\u001b[1;32m     26\u001b[0m \u001b[39mreturn\u001b[39;00m doc\n",
      "\u001b[0;31mAttributeError\u001b[0m: 'NoneType' object has no attribute 'decompose'"
     ]
    }
   ],
   "source": [
    "sections = whatalgo.get_known_names()\n",
    "for section in sections:\n",
    "    print(section)"
   ]
  },
  {
   "cell_type": "code",
   "execution_count": null,
   "metadata": {},
   "outputs": [],
   "source": [
    "sections[0].text"
   ]
  },
  {
   "cell_type": "code",
   "execution_count": null,
   "metadata": {},
   "outputs": [],
   "source": []
  }
 ],
 "metadata": {
  "kernelspec": {
   "display_name": "EmbeddingScratchwork",
   "language": "python",
   "name": "python3"
  },
  "language_info": {
   "codemirror_mode": {
    "name": "ipython",
    "version": 3
   },
   "file_extension": ".py",
   "mimetype": "text/x-python",
   "name": "python",
   "nbconvert_exporter": "python",
   "pygments_lexer": "ipython3",
   "version": "3.11.3"
  },
  "orig_nbformat": 4
 },
 "nbformat": 4,
 "nbformat_minor": 2
}
