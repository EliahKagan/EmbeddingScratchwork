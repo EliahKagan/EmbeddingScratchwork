{
 "cells": [
  {
   "cell_type": "code",
   "execution_count": 1,
   "metadata": {},
   "outputs": [],
   "source": [
    "from embed.demos import whatalgo"
   ]
  },
  {
   "cell_type": "code",
   "execution_count": 2,
   "metadata": {},
   "outputs": [
    {
     "name": "stderr",
     "output_type": "stream",
     "text": [
      "/home/ek/repos-wsl/EmbeddingScratchwork/embed/demos/whatalgo/__init__.py:27: GuessedAtParserWarning: No parser was explicitly specified, so I'm using the best available HTML parser for this system (\"html.parser\"). This usually isn't a problem, but if you run this code on another system, or in a different virtual environment, it may use a different parser and behave differently.\n",
      "\n",
      "The code that caused this warning is on line 27 of the file /home/ek/repos-wsl/EmbeddingScratchwork/embed/demos/whatalgo/__init__.py. To get rid of this warning, pass the additional argument 'features=\"html.parser\"' to the BeautifulSoup constructor.\n",
      "\n",
      "  for element in bs4.BeautifulSoup(section.text).find_all('li')\n"
     ]
    },
    {
     "data": {
      "text/plain": [
       "[<li>Cache algorithms</li>,\n",
       " <li>CHS conversion: converting between disk addressing systems</li>,\n",
       " <li>Double dabble: Convert binary numbers to BCD</li>,\n",
       " <li>Hash Function: convert a large, possibly variable-sized amount of data into a small datum, usually a single integer that may serve as an index into an array\n",
       " <ul><li>Fowler–Noll–Vo hash function: fast with low collision rate</li>\n",
       " <li>Pearson hashing: computes 8 bit value only, optimized for 8 bit computers</li>\n",
       " <li>Zobrist hashing: used in the implementation of transposition tables</li></ul></li>,\n",
       " <li>Fowler–Noll–Vo hash function: fast with low collision rate</li>,\n",
       " <li>Pearson hashing: computes 8 bit value only, optimized for 8 bit computers</li>,\n",
       " <li>Zobrist hashing: used in the implementation of transposition tables</li>,\n",
       " <li>Unicode Collation Algorithm</li>,\n",
       " <li>Xor swap algorithm: swaps the values of two variables without using a buffer</li>,\n",
       " <li>Algorithms for Recovery and Isolation Exploiting Semantics (ARIES): transaction recovery</li>,\n",
       " <li>Join algorithms\n",
       " <ul><li>Block nested loop</li>\n",
       " <li>Hash join</li>\n",
       " <li>Nested loop join</li>\n",
       " <li>Sort-Merge Join</li></ul></li>,\n",
       " <li>Block nested loop</li>,\n",
       " <li>Hash join</li>,\n",
       " <li>Nested loop join</li>,\n",
       " <li>Sort-Merge Join</li>,\n",
       " <li>Clock synchronization\n",
       " <ul><li>Berkeley algorithm</li>\n",
       " <li>Cristian's algorithm</li>\n",
       " <li>Intersection algorithm</li>\n",
       " <li>Marzullo's algorithm</li></ul></li>,\n",
       " <li>Berkeley algorithm</li>,\n",
       " <li>Cristian's algorithm</li>,\n",
       " <li>Intersection algorithm</li>,\n",
       " <li>Marzullo's algorithm</li>,\n",
       " <li>Consensus (computer science): agreeing on a single value or history among unreliable processors\n",
       " <ul><li>Chandra–Toueg consensus algorithm</li>\n",
       " <li>Paxos algorithm</li>\n",
       " <li>Raft (computer science)</li></ul></li>,\n",
       " <li>Chandra–Toueg consensus algorithm</li>,\n",
       " <li>Paxos algorithm</li>,\n",
       " <li>Raft (computer science)</li>,\n",
       " <li>Detection of Process Termination\n",
       " <ul><li>Dijkstra-Scholten algorithm</li>\n",
       " <li>Huang's algorithm</li></ul></li>,\n",
       " <li>Dijkstra-Scholten algorithm</li>,\n",
       " <li>Huang's algorithm</li>,\n",
       " <li>Lamport ordering: a partial ordering of events based on the <i>happened-before</i> relation</li>,\n",
       " <li>Leader election: a method for dynamically selecting a coordinator\n",
       " <ul><li>Bully algorithm</li></ul></li>,\n",
       " <li>Bully algorithm</li>,\n",
       " <li>Mutual exclusion\n",
       " <ul><li>Lamport's Distributed Mutual Exclusion Algorithm</li>\n",
       " <li>Naimi-Trehel's log(n) Algorithm</li>\n",
       " <li>Maekawa's Algorithm</li>\n",
       " <li>Raymond's Algorithm</li>\n",
       " <li>Ricart–Agrawala Algorithm</li></ul></li>,\n",
       " <li>Lamport's Distributed Mutual Exclusion Algorithm</li>,\n",
       " <li>Naimi-Trehel's log(n) Algorithm</li>,\n",
       " <li>Maekawa's Algorithm</li>,\n",
       " <li>Raymond's Algorithm</li>,\n",
       " <li>Ricart–Agrawala Algorithm</li>,\n",
       " <li>Snapshot algorithm: record a consistent global state for an asynchronous system\n",
       " <ul><li>Chandy–Lamport algorithm</li></ul></li>,\n",
       " <li>Chandy–Lamport algorithm</li>,\n",
       " <li>Vector clocks: generate a partial ordering of events in a distributed system and detect causality violations</li>,\n",
       " <li>Karn's algorithm: addresses the problem of getting accurate estimates of the round-trip time for messages when using TCP</li>,\n",
       " <li>Luleå algorithm: a technique for storing and searching internet routing tables efficiently</li>,\n",
       " <li>Network congestion\n",
       " <ul><li>Exponential backoff</li>\n",
       " <li>Nagle's algorithm: improve the efficiency of TCP/IP networks by coalescing packets</li>\n",
       " <li>Truncated binary exponential backoff</li></ul></li>,\n",
       " <li>Exponential backoff</li>,\n",
       " <li>Nagle's algorithm: improve the efficiency of TCP/IP networks by coalescing packets</li>,\n",
       " <li>Truncated binary exponential backoff</li>,\n",
       " <li>Banker's algorithm: algorithm used for deadlock avoidance</li>,\n",
       " <li>Page replacement algorithms: for selecting the victim page under low memory conditions\n",
       " <ul><li>Adaptive replacement cache: better performance than LRU</li>\n",
       " <li>Clock with Adaptive Replacement (CAR): a page replacement algorithm with performance comparable to adaptive replacement cache</li></ul></li>,\n",
       " <li>Adaptive replacement cache: better performance than LRU</li>,\n",
       " <li>Clock with Adaptive Replacement (CAR): a page replacement algorithm with performance comparable to adaptive replacement cache</li>,\n",
       " <li>'For You' algorithm: a proprietary algorithm developed by the social media network Tik-Tok. Uploaded videos are released first to a selection of users who have been identified by the algorithm as being likely to engage with the video, based on their previous web-site viewing patterns.</li>,\n",
       " <li>Bloom filter</li>,\n",
       " <li>Binary fuse filter</li>,\n",
       " <li>Cuckoo filter</li>,\n",
       " <li>Xor filter</li>,\n",
       " <li>Count–min sketch</li>,\n",
       " <li>Distributed hash table</li>,\n",
       " <li>Double hashing</li>,\n",
       " <li>Dynamic perfect hash table</li>,\n",
       " <li>Hash array mapped trie</li>,\n",
       " <li>Hash list</li>,\n",
       " <li>Hash table</li>,\n",
       " <li>Hash tree</li>,\n",
       " <li>Hash trie</li>,\n",
       " <li>Koorde</li>,\n",
       " <li>Prefix hash tree</li>,\n",
       " <li>Rolling hash</li>,\n",
       " <li>MinHash</li>,\n",
       " <li>Quotient filter</li>,\n",
       " <li>Ctrie</li>,\n",
       " <li>Graph</li>,\n",
       " <li>Adjacency list</li>,\n",
       " <li>Adjacency matrix</li>,\n",
       " <li>Graph-structured stack</li>,\n",
       " <li>Scene graph</li>,\n",
       " <li>Decision tree\n",
       " <ul><li>Binary decision diagram</li></ul></li>,\n",
       " <li>Binary decision diagram</li>,\n",
       " <li>Zero-suppressed decision diagram</li>,\n",
       " <li>And-inverter graph</li>,\n",
       " <li>Directed graph</li>,\n",
       " <li>Directed acyclic graph</li>,\n",
       " <li>Propositional directed acyclic graph</li>,\n",
       " <li>Multigraph</li>,\n",
       " <li>Hypergraph</li>,\n",
       " <li>Lightmap</li>,\n",
       " <li>Winged edge</li>,\n",
       " <li>Quad-edge</li>,\n",
       " <li>Routing table</li>,\n",
       " <li>Symbol table</li>,\n",
       " <li>Piece table</li>,\n",
       " <li>E-graph</li>]"
      ]
     },
     "execution_count": 2,
     "metadata": {},
     "output_type": "execute_result"
    }
   ],
   "source": [
    "sections = whatalgo.get_known_names()\n",
    "sections"
   ]
  },
  {
   "cell_type": "code",
   "execution_count": 3,
   "metadata": {},
   "outputs": [
    {
     "data": {
      "text/plain": [
       "'Cache algorithms'"
      ]
     },
     "execution_count": 3,
     "metadata": {},
     "output_type": "execute_result"
    }
   ],
   "source": [
    "sections[0].text"
   ]
  },
  {
   "cell_type": "code",
   "execution_count": null,
   "metadata": {},
   "outputs": [],
   "source": []
  }
 ],
 "metadata": {
  "kernelspec": {
   "display_name": "EmbeddingScratchwork",
   "language": "python",
   "name": "python3"
  },
  "language_info": {
   "codemirror_mode": {
    "name": "ipython",
    "version": 3
   },
   "file_extension": ".py",
   "mimetype": "text/x-python",
   "name": "python",
   "nbconvert_exporter": "python",
   "pygments_lexer": "ipython3",
   "version": "3.11.3"
  },
  "orig_nbformat": 4
 },
 "nbformat": 4,
 "nbformat_minor": 2
}
