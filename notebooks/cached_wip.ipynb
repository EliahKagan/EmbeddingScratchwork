{
 "cells": [
  {
   "attachments": {},
   "cell_type": "markdown",
   "metadata": {},
   "source": [
    "# Scratchwork for `text`/`texts` as keyword arguments\n",
    "\n",
    "The approach presented here is not necessarily preferable to other approaches, and this is not a *plan* to use this approach.\n",
    "\n",
    "Once the problem that the cached embedding functions don't accept `text` or `texts` as keyword arguments with those names, or our code's public interface has been changed in a way that eliminates it through redesign, this notebook should be removed, and any relevant information or demonstration that things *do* work can go in `cached.ipynb`."
   ]
  },
  {
   "cell_type": "code",
   "execution_count": 1,
   "metadata": {},
   "outputs": [],
   "source": [
    "import types\n",
    "\n",
    "import embed.cached"
   ]
  },
  {
   "cell_type": "code",
   "execution_count": 4,
   "metadata": {},
   "outputs": [
    {
     "data": {
      "text/plain": [
       "array([-0.02499537, -0.01935126, -0.02775795, ..., -0.01632432,\n",
       "       -0.00503278, -0.00612988], dtype=float32)"
      ]
     },
     "execution_count": 4,
     "metadata": {},
     "output_type": "execute_result"
    }
   ],
   "source": [
    "embed.cached.embed_one('hello', data_dir='../data')"
   ]
  },
  {
   "cell_type": "code",
   "execution_count": 5,
   "metadata": {},
   "outputs": [],
   "source": [
    "code = embed.cached.embed_one.__code__\n",
    "assert code.co_varnames[0] == 'text_or_texts'\n",
    "\n",
    "embed.cached.embed_one.__code__ = types.CodeType(\n",
    "    code.co_argcount,\n",
    "    code.co_posonlyargcount,\n",
    "    code.co_kwonlyargcount,\n",
    "    code.co_nlocals,\n",
    "    code.co_stacksize,\n",
    "    code.co_flags,\n",
    "    code.co_code,\n",
    "    code.co_consts,\n",
    "    code.co_names,\n",
    "    ('text',) + code.co_varnames[1:],\n",
    "    code.co_filename,\n",
    "    code.co_name,\n",
    "    code.co_qualname,\n",
    "    code.co_firstlineno,\n",
    "    code.co_linetable,\n",
    "    code.co_exceptiontable,\n",
    "    code.co_freevars,\n",
    "    code.co_cellvars,\n",
    ")"
   ]
  },
  {
   "cell_type": "code",
   "execution_count": 6,
   "metadata": {},
   "outputs": [
    {
     "data": {
      "text/plain": [
       "<function embed.cached.embed_one(text)>"
      ]
     },
     "execution_count": 6,
     "metadata": {},
     "output_type": "execute_result"
    }
   ],
   "source": [
    "embed.cached.embed_one"
   ]
  },
  {
   "cell_type": "code",
   "execution_count": 7,
   "metadata": {},
   "outputs": [
    {
     "name": "stdout",
     "output_type": "stream",
     "text": [
      "Help on function embed_one in module embed.cached:\n",
      "\n",
      "embed_one(text)\n",
      "    Embed a single piece of text. Caches to disk.\n",
      "\n"
     ]
    }
   ],
   "source": [
    "help(embed.cached.embed_one)"
   ]
  },
  {
   "attachments": {},
   "cell_type": "markdown",
   "metadata": {},
   "source": [
    "That's one way to make both the inspected signature and the actual parameter names what we want. Passing both as keyword arguments works now:"
   ]
  },
  {
   "cell_type": "code",
   "execution_count": 8,
   "metadata": {},
   "outputs": [
    {
     "data": {
      "text/plain": [
       "array([-0.02499537, -0.01935126, -0.02775795, ..., -0.01632432,\n",
       "       -0.00503278, -0.00612988], dtype=float32)"
      ]
     },
     "execution_count": 8,
     "metadata": {},
     "output_type": "execute_result"
    }
   ],
   "source": [
    "embed.cached.embed_one(text='hello', data_dir='../data')"
   ]
  },
  {
   "attachments": {},
   "cell_type": "markdown",
   "metadata": {},
   "source": [
    "The same modification can be done to the `embed_many` functions.\n",
    "\n",
    "Note that this entire approach may very well not be the best one, due to its complexity, and because static analysis tools, including editors/IDEs, are likely not to recognize what's going on (without even *more* effort and complexity)."
   ]
  }
 ],
 "metadata": {
  "kernelspec": {
   "display_name": "EmbeddingScratchwork",
   "language": "python",
   "name": "python3"
  },
  "language_info": {
   "codemirror_mode": {
    "name": "ipython",
    "version": 3
   },
   "file_extension": ".py",
   "mimetype": "text/x-python",
   "name": "python",
   "nbconvert_exporter": "python",
   "pygments_lexer": "ipython3",
   "version": "3.11.3"
  },
  "orig_nbformat": 4
 },
 "nbformat": 4,
 "nbformat_minor": 2
}
