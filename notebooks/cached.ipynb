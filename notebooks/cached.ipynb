{
 "cells": [
  {
   "attachments": {},
   "cell_type": "markdown",
   "metadata": {},
   "source": [
    "# Caching embeddings on disk"
   ]
  },
  {
   "cell_type": "code",
   "execution_count": 1,
   "metadata": {},
   "outputs": [],
   "source": [
    "import logging\n",
    "\n",
    "from embed import cached"
   ]
  },
  {
   "cell_type": "code",
   "execution_count": 2,
   "metadata": {},
   "outputs": [],
   "source": [
    "logging.basicConfig(level=logging.INFO)"
   ]
  },
  {
   "cell_type": "code",
   "execution_count": 3,
   "metadata": {},
   "outputs": [
    {
     "name": "stderr",
     "output_type": "stream",
     "text": [
      "INFO:embed.cached:embed_one: loaded: ../data/c5919eb25e32df3ac400757942250b6a9776c7b1ac1e8e465ec6ca0de8e4cb3f.json\n"
     ]
    },
    {
     "data": {
      "text/plain": [
       "array([-0.02499537, -0.01935126, -0.02775795, ..., -0.01632432,\n",
       "       -0.00503278, -0.00612988], dtype=float32)"
      ]
     },
     "execution_count": 3,
     "metadata": {},
     "output_type": "execute_result"
    }
   ],
   "source": [
    "cached.embed_one('hello', data_dir='../data')"
   ]
  },
  {
   "cell_type": "code",
   "execution_count": 4,
   "metadata": {},
   "outputs": [
    {
     "name": "stderr",
     "output_type": "stream",
     "text": [
      "INFO:embed.cached:embed_one: saved: ../data/b58e4a60c963f8b3c43d83cc9245020ce71d8311fa2f48cfd36deed6f472a71b.json\n"
     ]
    },
    {
     "data": {
      "text/plain": [
       "array([-0.03501248, -0.00323063, -0.02819939, ...,  0.00106455,\n",
       "        0.00356109,  0.01164014], dtype=float32)"
      ]
     },
     "execution_count": 4,
     "metadata": {},
     "output_type": "execute_result"
    }
   ],
   "source": [
    "cached.embed_one('hola', data_dir='../data')"
   ]
  },
  {
   "cell_type": "code",
   "execution_count": 5,
   "metadata": {},
   "outputs": [
    {
     "name": "stderr",
     "output_type": "stream",
     "text": [
      "INFO:embed.cached:embed_one: loaded: ../data/b58e4a60c963f8b3c43d83cc9245020ce71d8311fa2f48cfd36deed6f472a71b.json\n"
     ]
    },
    {
     "data": {
      "text/plain": [
       "array([-0.03501248, -0.00323063, -0.02819939, ...,  0.00106455,\n",
       "        0.00356109,  0.01164014], dtype=float32)"
      ]
     },
     "execution_count": 5,
     "metadata": {},
     "output_type": "execute_result"
    }
   ],
   "source": [
    "cached.embed_one('hola', data_dir='../data')"
   ]
  },
  {
   "cell_type": "code",
   "execution_count": 6,
   "metadata": {},
   "outputs": [],
   "source": [
    "!rm ../data/b58e4a60c963f8b3c43d83cc9245020ce71d8311fa2f48cfd36deed6f472a71b.json"
   ]
  },
  {
   "cell_type": "code",
   "execution_count": 7,
   "metadata": {},
   "outputs": [
    {
     "name": "stderr",
     "output_type": "stream",
     "text": [
      "INFO:embed.cached:embed_many: saved: ../data/4a77f419587b08963e94105b8b9272531e53ade9621b613fda175aa0a96cd839.json\n"
     ]
    },
    {
     "data": {
      "text/plain": [
       "array([[-0.03501248, -0.00323063, -0.02819939, ...,  0.00106455,\n",
       "         0.00356109,  0.01164014],\n",
       "       [-0.02499537, -0.01935126, -0.02775795, ..., -0.01632432,\n",
       "        -0.00503278, -0.00612988]], dtype=float32)"
      ]
     },
     "execution_count": 7,
     "metadata": {},
     "output_type": "execute_result"
    }
   ],
   "source": [
    "cached.embed_many(['hola','hello'], data_dir='../data')"
   ]
  },
  {
   "cell_type": "code",
   "execution_count": 8,
   "metadata": {},
   "outputs": [
    {
     "name": "stderr",
     "output_type": "stream",
     "text": [
      "INFO:embed.cached:embed_many: loaded: ../data/4a77f419587b08963e94105b8b9272531e53ade9621b613fda175aa0a96cd839.json\n"
     ]
    },
    {
     "data": {
      "text/plain": [
       "array([[-0.03501248, -0.00323063, -0.02819939, ...,  0.00106455,\n",
       "         0.00356109,  0.01164014],\n",
       "       [-0.02499537, -0.01935126, -0.02775795, ..., -0.01632432,\n",
       "        -0.00503278, -0.00612988]], dtype=float32)"
      ]
     },
     "execution_count": 8,
     "metadata": {},
     "output_type": "execute_result"
    }
   ],
   "source": [
    "cached.embed_many(['hola','hello'], data_dir='../data')"
   ]
  },
  {
   "cell_type": "code",
   "execution_count": 9,
   "metadata": {},
   "outputs": [],
   "source": [
    "!rm ../data/4a77f419587b08963e94105b8b9272531e53ade9621b613fda175aa0a96cd839.json"
   ]
  },
  {
   "attachments": {},
   "cell_type": "markdown",
   "metadata": {},
   "source": [
    "## Generating Data for Tests"
   ]
  },
  {
   "cell_type": "code",
   "execution_count": 10,
   "metadata": {},
   "outputs": [
    {
     "name": "stderr",
     "output_type": "stream",
     "text": [
      "INFO:embed.cached:embed_one: saved: ../tests_data/c6569ae39bd3ce1a82988cf5a0c219288e2df4918c9e9a09134f596f74509094.json\n"
     ]
    },
    {
     "data": {
      "text/plain": [
       "array([-6.9754184e-03, -5.3491648e-03,  1.1907940e-02, ...,\n",
       "       -1.7028622e-02, -8.8358240e-05, -2.4030920e-02], dtype=float32)"
      ]
     },
     "execution_count": 10,
     "metadata": {},
     "output_type": "execute_result"
    }
   ],
   "source": [
    "cached.embed_one('Your text string goes here', data_dir='../tests_data')"
   ]
  },
  {
   "cell_type": "code",
   "execution_count": 11,
   "metadata": {},
   "outputs": [
    {
     "name": "stderr",
     "output_type": "stream",
     "text": [
      "INFO:embed.cached:embed_one: saved: ../tests_data/84cccf9b16c60b6ae531f97eafc6aabd536fbeb5fd62f3108500642fd34562bf.json\n"
     ]
    },
    {
     "data": {
      "text/plain": [
       "array([-0.0090431 , -0.00407863, -0.01109516, ..., -0.02476496,\n",
       "        0.00559219, -0.0241914 ], dtype=float32)"
      ]
     },
     "execution_count": 11,
     "metadata": {},
     "output_type": "execute_result"
    }
   ],
   "source": [
    "cached.embed_one('The cat runs.', data_dir='../tests_data')"
   ]
  },
  {
   "cell_type": "code",
   "execution_count": 12,
   "metadata": {},
   "outputs": [
    {
     "name": "stderr",
     "output_type": "stream",
     "text": [
      "INFO:embed.cached:embed_one: saved: ../tests_data/94aac07b5ec049de3cd871a0958697b02683e371b46658395302ecceab419b36.json\n"
     ]
    },
    {
     "data": {
      "text/plain": [
       "array([-0.01420416, -0.00294338,  0.00040551, ..., -0.00811486,\n",
       "        0.00492778, -0.00681724], dtype=float32)"
      ]
     },
     "execution_count": 12,
     "metadata": {},
     "output_type": "execute_result"
    }
   ],
   "source": [
    "cached.embed_one('El gato corre.', data_dir='../tests_data')"
   ]
  },
  {
   "cell_type": "code",
   "execution_count": 13,
   "metadata": {},
   "outputs": [
    {
     "name": "stderr",
     "output_type": "stream",
     "text": [
      "INFO:embed.cached:embed_one: saved: ../tests_data/116c3040d924d3f415ba72b32a55bf3b05ba62bebbcbdca9ae2e5101d5a0fbdf.json\n"
     ]
    },
    {
     "data": {
      "text/plain": [
       "array([ 0.00955974, -0.00636049, -0.00593287, ..., -0.0123092 ,\n",
       "       -0.00036863, -0.01713025], dtype=float32)"
      ]
     },
     "execution_count": 13,
     "metadata": {},
     "output_type": "execute_result"
    }
   ],
   "source": [
    "cached.embed_one('The dog walks.', data_dir='../tests_data')"
   ]
  },
  {
   "cell_type": "code",
   "execution_count": 14,
   "metadata": {},
   "outputs": [
    {
     "name": "stderr",
     "output_type": "stream",
     "text": [
      "INFO:embed.cached:embed_one: saved: ../tests_data/c19b4807aa7da53ef4f0bb7c5e2c97145607b058a22a0b0dbe696402200f0812.json\n"
     ]
    },
    {
     "data": {
      "text/plain": [
       "array([ 3.3449344e-03, -8.1113884e-03,  1.7457254e-03, ...,\n",
       "        9.9317353e-05, -9.5703155e-03, -5.5582649e-03], dtype=float32)"
      ]
     },
     "execution_count": 14,
     "metadata": {},
     "output_type": "execute_result"
    }
   ],
   "source": [
    "cached.embed_one('El perro camina.', data_dir='../tests_data')"
   ]
  },
  {
   "cell_type": "code",
   "execution_count": 15,
   "metadata": {},
   "outputs": [
    {
     "name": "stderr",
     "output_type": "stream",
     "text": [
      "INFO:embed.cached:embed_one: saved: ../tests_data/7f688454101c9a4f6d0adf7b9c8470f7815da6689e64e9125e4f9400027853a9.json\n"
     ]
    },
    {
     "data": {
      "text/plain": [
       "array([ 0.01428934,  0.00727283, -0.00715108, ..., -0.00158032,\n",
       "        0.02896316, -0.02583616], dtype=float32)"
      ]
     },
     "execution_count": 15,
     "metadata": {},
     "output_type": "execute_result"
    }
   ],
   "source": [
    "cached.embed_one('The lion sleeps.', data_dir='../tests_data')"
   ]
  },
  {
   "cell_type": "code",
   "execution_count": 16,
   "metadata": {},
   "outputs": [
    {
     "name": "stderr",
     "output_type": "stream",
     "text": [
      "INFO:embed.cached:embed_one: saved: ../tests_data/ce38d8bb2f403e60cd74c161595830fdf1a10b63133e577ecc051407ed6da3ff.json\n"
     ]
    },
    {
     "data": {
      "text/plain": [
       "array([ 0.01224608,  0.00345483,  0.0032566 , ...,  0.01358018,\n",
       "        0.01453671, -0.00654467], dtype=float32)"
      ]
     },
     "execution_count": 16,
     "metadata": {},
     "output_type": "execute_result"
    }
   ],
   "source": [
    "cached.embed_one('El león duerme.', data_dir='../tests_data')"
   ]
  },
  {
   "cell_type": "code",
   "execution_count": 3,
   "metadata": {},
   "outputs": [
    {
     "name": "stderr",
     "output_type": "stream",
     "text": [
      "INFO:embed.cached:embed_many: saved: ../tests_data/bd1c3556111ed8b208c08f5d417be020965c48957144eb0e2a19869a10302413.json\n"
     ]
    },
    {
     "data": {
      "text/plain": [
       "array([[-0.00700073, -0.0053043 ,  0.01185825, ..., -0.01703825,\n",
       "        -0.00011485, -0.02399868],\n",
       "       [-0.00907763, -0.00405467, -0.01103967, ..., -0.02481855,\n",
       "         0.00557398, -0.02418152],\n",
       "       [-0.0142647 , -0.00291274,  0.00040622, ..., -0.00806266,\n",
       "         0.00487303, -0.00684123],\n",
       "       [ 0.00962401, -0.00636743, -0.00590175, ..., -0.01238006,\n",
       "        -0.00033599, -0.01708119],\n",
       "       [ 0.00338718, -0.00754233,  0.00134863, ...,  0.00045071,\n",
       "        -0.00879106, -0.00613751]], dtype=float32)"
      ]
     },
     "execution_count": 3,
     "metadata": {},
     "output_type": "execute_result"
    }
   ],
   "source": [
    "cached.embed_many([\n",
    "    'Your text string goes here',\n",
    "    'The cat runs.',\n",
    "    'El gato corre.',\n",
    "    'The dog walks.',\n",
    "    'El perro camina.',\n",
    "], data_dir='../tests_data')"
   ]
  }
 ],
 "metadata": {
  "kernelspec": {
   "display_name": "EmbeddingScratchwork",
   "language": "python",
   "name": "python3"
  },
  "language_info": {
   "codemirror_mode": {
    "name": "ipython",
    "version": 3
   },
   "file_extension": ".py",
   "mimetype": "text/x-python",
   "name": "python",
   "nbconvert_exporter": "python",
   "pygments_lexer": "ipython3",
   "version": "3.11.3"
  },
  "orig_nbformat": 4
 },
 "nbformat": 4,
 "nbformat_minor": 2
}
