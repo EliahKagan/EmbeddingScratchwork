{
 "cells": [
  {
   "attachments": {},
   "cell_type": "markdown",
   "metadata": {},
   "source": [
    "# Caching embeddings on disk"
   ]
  },
  {
   "cell_type": "code",
   "execution_count": 1,
   "metadata": {},
   "outputs": [],
   "source": [
    "import logging\n",
    "\n",
    "from embed import cached"
   ]
  },
  {
   "cell_type": "code",
   "execution_count": 2,
   "metadata": {},
   "outputs": [],
   "source": [
    "logging.basicConfig(level=logging.INFO)"
   ]
  },
  {
   "cell_type": "code",
   "execution_count": 3,
   "metadata": {},
   "outputs": [
    {
     "name": "stderr",
     "output_type": "stream",
     "text": [
      "INFO:embed.cached:embed_one: loaded: ../data/c5919eb25e32df3ac400757942250b6a9776c7b1ac1e8e465ec6ca0de8e4cb3f.json\n"
     ]
    },
    {
     "data": {
      "text/plain": [
       "array([-0.02499537, -0.01935126, -0.02775795, ..., -0.01632432,\n",
       "       -0.00503278, -0.00612988], dtype=float32)"
      ]
     },
     "execution_count": 3,
     "metadata": {},
     "output_type": "execute_result"
    }
   ],
   "source": [
    "cached.embed_one('hello', data_dir='../data')"
   ]
  },
  {
   "cell_type": "code",
   "execution_count": 4,
   "metadata": {},
   "outputs": [
    {
     "name": "stderr",
     "output_type": "stream",
     "text": [
      "INFO:embed.cached:embed_one: saved: ../data/b58e4a60c963f8b3c43d83cc9245020ce71d8311fa2f48cfd36deed6f472a71b.json\n"
     ]
    },
    {
     "data": {
      "text/plain": [
       "array([-0.03505376, -0.00331839, -0.02812728, ...,  0.00096951,\n",
       "        0.00360809,  0.01162752], dtype=float32)"
      ]
     },
     "execution_count": 4,
     "metadata": {},
     "output_type": "execute_result"
    }
   ],
   "source": [
    "cached.embed_one('hola', data_dir='../data')"
   ]
  },
  {
   "cell_type": "code",
   "execution_count": 5,
   "metadata": {},
   "outputs": [
    {
     "name": "stderr",
     "output_type": "stream",
     "text": [
      "INFO:embed.cached:embed_one: loaded: ../data/b58e4a60c963f8b3c43d83cc9245020ce71d8311fa2f48cfd36deed6f472a71b.json\n"
     ]
    },
    {
     "data": {
      "text/plain": [
       "array([-0.03505376, -0.00331839, -0.02812728, ...,  0.00096951,\n",
       "        0.00360809,  0.01162752], dtype=float32)"
      ]
     },
     "execution_count": 5,
     "metadata": {},
     "output_type": "execute_result"
    }
   ],
   "source": [
    "cached.embed_one('hola', data_dir='../data')"
   ]
  },
  {
   "cell_type": "code",
   "execution_count": 6,
   "metadata": {},
   "outputs": [],
   "source": [
    "!rm ../data/b58e4a60c963f8b3c43d83cc9245020ce71d8311fa2f48cfd36deed6f472a71b.json"
   ]
  },
  {
   "cell_type": "code",
   "execution_count": 7,
   "metadata": {},
   "outputs": [
    {
     "name": "stderr",
     "output_type": "stream",
     "text": [
      "INFO:embed.cached:embed_many: saved: ../data/4a77f419587b08963e94105b8b9272531e53ade9621b613fda175aa0a96cd839.json\n"
     ]
    },
    {
     "data": {
      "text/plain": [
       "array([[-0.03505376, -0.00331839, -0.02812728, ...,  0.00096951,\n",
       "         0.00360809,  0.01162752],\n",
       "       [-0.02504645, -0.01940274, -0.0277824 , ..., -0.01633637,\n",
       "        -0.00506216, -0.00611953]], dtype=float32)"
      ]
     },
     "execution_count": 7,
     "metadata": {},
     "output_type": "execute_result"
    }
   ],
   "source": [
    "cached.embed_many(['hola','hello'], data_dir='../data')"
   ]
  },
  {
   "cell_type": "code",
   "execution_count": 8,
   "metadata": {},
   "outputs": [
    {
     "name": "stderr",
     "output_type": "stream",
     "text": [
      "INFO:embed.cached:embed_many: loaded: ../data/4a77f419587b08963e94105b8b9272531e53ade9621b613fda175aa0a96cd839.json\n"
     ]
    },
    {
     "data": {
      "text/plain": [
       "array([[-0.03505376, -0.00331839, -0.02812728, ...,  0.00096951,\n",
       "         0.00360809,  0.01162752],\n",
       "       [-0.02504645, -0.01940274, -0.0277824 , ..., -0.01633637,\n",
       "        -0.00506216, -0.00611953]], dtype=float32)"
      ]
     },
     "execution_count": 8,
     "metadata": {},
     "output_type": "execute_result"
    }
   ],
   "source": [
    "cached.embed_many(['hola','hello'], data_dir='../data')"
   ]
  },
  {
   "cell_type": "code",
   "execution_count": 9,
   "metadata": {},
   "outputs": [],
   "source": [
    "!rm ../data/4a77f419587b08963e94105b8b9272531e53ade9621b613fda175aa0a96cd839.json"
   ]
  }
 ],
 "metadata": {
  "kernelspec": {
   "display_name": "EmbeddingScratchwork",
   "language": "python",
   "name": "python3"
  },
  "language_info": {
   "codemirror_mode": {
    "name": "ipython",
    "version": 3
   },
   "file_extension": ".py",
   "mimetype": "text/x-python",
   "name": "python",
   "nbconvert_exporter": "python",
   "pygments_lexer": "ipython3",
   "version": "3.11.3"
  },
  "orig_nbformat": 4
 },
 "nbformat": 4,
 "nbformat_minor": 2
}
