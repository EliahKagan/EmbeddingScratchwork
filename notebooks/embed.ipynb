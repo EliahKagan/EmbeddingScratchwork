{
 "cells": [
  {
   "attachments": {},
   "cell_type": "markdown",
   "metadata": {},
   "source": [
    "# Experiments with embeddings"
   ]
  },
  {
   "cell_type": "code",
   "execution_count": 1,
   "metadata": {},
   "outputs": [],
   "source": [
    "import numpy as np\n",
    "from tabulate import tabulate\n",
    "\n",
    "import embed"
   ]
  },
  {
   "cell_type": "code",
   "execution_count": 2,
   "metadata": {},
   "outputs": [
    {
     "data": {
      "text/plain": [
       "array([1., 2., 3., 4.], dtype=float32)"
      ]
     },
     "execution_count": 2,
     "metadata": {},
     "output_type": "execute_result"
    }
   ],
   "source": [
    "np.array([1, 2, 3, 4], dtype=np.float32)"
   ]
  },
  {
   "attachments": {},
   "cell_type": "markdown",
   "metadata": {},
   "source": [
    "## `embed_one` and `embed_many`\n",
    "\n",
    "These functions use `openai.Embedding.create`."
   ]
  },
  {
   "attachments": {},
   "cell_type": "markdown",
   "metadata": {},
   "source": [
    "### `embed.embed_one`"
   ]
  },
  {
   "cell_type": "code",
   "execution_count": 3,
   "metadata": {},
   "outputs": [],
   "source": [
    "embedding = embed.embed_one('Your text string goes here')"
   ]
  },
  {
   "cell_type": "code",
   "execution_count": 4,
   "metadata": {},
   "outputs": [
    {
     "data": {
      "text/plain": [
       "array([-6.9754184e-03, -5.3491648e-03,  1.1907940e-02, ...,\n",
       "       -1.7028622e-02, -8.8358240e-05, -2.4030920e-02], dtype=float32)"
      ]
     },
     "execution_count": 4,
     "metadata": {},
     "output_type": "execute_result"
    }
   ],
   "source": [
    "embedding"
   ]
  },
  {
   "cell_type": "code",
   "execution_count": 5,
   "metadata": {},
   "outputs": [
    {
     "data": {
      "text/plain": [
       "numpy.ndarray"
      ]
     },
     "execution_count": 5,
     "metadata": {},
     "output_type": "execute_result"
    }
   ],
   "source": [
    "type(embedding)"
   ]
  },
  {
   "cell_type": "code",
   "execution_count": 6,
   "metadata": {},
   "outputs": [],
   "source": [
    "cat = embed.embed_one('cat')\n",
    "gato = embed.embed_one('gato')"
   ]
  },
  {
   "cell_type": "code",
   "execution_count": 7,
   "metadata": {},
   "outputs": [
    {
     "data": {
      "text/plain": [
       "0.84436065"
      ]
     },
     "execution_count": 7,
     "metadata": {},
     "output_type": "execute_result"
    }
   ],
   "source": [
    "np.dot(cat, gato)"
   ]
  },
  {
   "cell_type": "code",
   "execution_count": 8,
   "metadata": {},
   "outputs": [
    {
     "data": {
      "text/plain": [
       "0.7642809"
      ]
     },
     "execution_count": 8,
     "metadata": {},
     "output_type": "execute_result"
    }
   ],
   "source": [
    "np.dot(cat, embedding)"
   ]
  },
  {
   "cell_type": "code",
   "execution_count": 9,
   "metadata": {},
   "outputs": [],
   "source": [
    "catrun_en = embed.embed_one('The cat runs.')\n",
    "catrun_es = embed.embed_one('El gato corre.')\n",
    "dogwalk_en = embed.embed_one('The dog walks.')\n",
    "dogwalk_es = embed.embed_one('El perro camina.')"
   ]
  },
  {
   "cell_type": "code",
   "execution_count": 10,
   "metadata": {},
   "outputs": [
    {
     "data": {
      "text/plain": [
       "0.9224194"
      ]
     },
     "execution_count": 10,
     "metadata": {},
     "output_type": "execute_result"
    }
   ],
   "source": [
    "np.dot(catrun_en, catrun_es)"
   ]
  },
  {
   "cell_type": "code",
   "execution_count": 11,
   "metadata": {},
   "outputs": [
    {
     "data": {
      "text/plain": [
       "0.7650559"
      ]
     },
     "execution_count": 11,
     "metadata": {},
     "output_type": "execute_result"
    }
   ],
   "source": [
    "np.dot(catrun_en, embedding)"
   ]
  },
  {
   "cell_type": "code",
   "execution_count": 12,
   "metadata": {},
   "outputs": [
    {
     "data": {
      "text/plain": [
       "0.9269187"
      ]
     },
     "execution_count": 12,
     "metadata": {},
     "output_type": "execute_result"
    }
   ],
   "source": [
    "np.dot(dogwalk_en, dogwalk_es)"
   ]
  },
  {
   "cell_type": "code",
   "execution_count": 13,
   "metadata": {},
   "outputs": [
    {
     "data": {
      "text/plain": [
       "0.8857113"
      ]
     },
     "execution_count": 13,
     "metadata": {},
     "output_type": "execute_result"
    }
   ],
   "source": [
    "np.dot(catrun_en, dogwalk_en)"
   ]
  },
  {
   "cell_type": "code",
   "execution_count": 14,
   "metadata": {},
   "outputs": [
    {
     "data": {
      "text/plain": [
       "0.8966038"
      ]
     },
     "execution_count": 14,
     "metadata": {},
     "output_type": "execute_result"
    }
   ],
   "source": [
    "np.dot(catrun_es, dogwalk_es)"
   ]
  },
  {
   "cell_type": "code",
   "execution_count": 15,
   "metadata": {},
   "outputs": [
    {
     "data": {
      "text/plain": [
       "0.8422663"
      ]
     },
     "execution_count": 15,
     "metadata": {},
     "output_type": "execute_result"
    }
   ],
   "source": [
    "np.dot(catrun_en, dogwalk_es)"
   ]
  },
  {
   "cell_type": "code",
   "execution_count": 16,
   "metadata": {},
   "outputs": [
    {
     "data": {
      "text/plain": [
       "0.83059084"
      ]
     },
     "execution_count": 16,
     "metadata": {},
     "output_type": "execute_result"
    }
   ],
   "source": [
    "np.dot(catrun_es, dogwalk_en)"
   ]
  },
  {
   "cell_type": "code",
   "execution_count": 17,
   "metadata": {},
   "outputs": [
    {
     "data": {
      "text/plain": [
       "(1536,)"
      ]
     },
     "execution_count": 17,
     "metadata": {},
     "output_type": "execute_result"
    }
   ],
   "source": [
    "catrun_en.shape"
   ]
  },
  {
   "attachments": {},
   "cell_type": "markdown",
   "metadata": {},
   "source": [
    "### `embed.embed_many`"
   ]
  },
  {
   "cell_type": "code",
   "execution_count": 18,
   "metadata": {},
   "outputs": [
    {
     "data": {
      "text/plain": [
       "(5, 1536)"
      ]
     },
     "execution_count": 18,
     "metadata": {},
     "output_type": "execute_result"
    }
   ],
   "source": [
    "many = embed.embed_many([\n",
    "    'Your text string goes here',\n",
    "    'The cat runs.',\n",
    "    'El gato corre.',\n",
    "    'The dog walks.',\n",
    "    'El perro camina.',\n",
    "])\n",
    "many.shape"
   ]
  },
  {
   "cell_type": "code",
   "execution_count": 19,
   "metadata": {},
   "outputs": [
    {
     "data": {
      "text/plain": [
       "array([[-6.9754184e-03, -5.3491648e-03,  1.1907940e-02, ...,\n",
       "        -1.7028622e-02, -8.8358240e-05, -2.4030920e-02],\n",
       "       [-9.0430975e-03, -4.0786345e-03, -1.1095160e-02, ...,\n",
       "        -2.4764959e-02,  5.5921902e-03, -2.4191400e-02],\n",
       "       [-1.4204165e-02, -2.9433765e-03,  4.0550550e-04, ...,\n",
       "        -8.1148576e-03,  4.9277819e-03, -6.8172398e-03],\n",
       "       [ 9.5597431e-03, -6.3604913e-03, -5.9328689e-03, ...,\n",
       "        -1.2309198e-02, -3.6862658e-04, -1.7130248e-02],\n",
       "       [ 3.3449344e-03, -8.1113884e-03,  1.7457254e-03, ...,\n",
       "         9.9317353e-05, -9.5703155e-03, -5.5582649e-03]], dtype=float32)"
      ]
     },
     "execution_count": 19,
     "metadata": {},
     "output_type": "execute_result"
    }
   ],
   "source": [
    "many"
   ]
  },
  {
   "cell_type": "code",
   "execution_count": 20,
   "metadata": {},
   "outputs": [
    {
     "data": {
      "text/plain": [
       "0.7650559"
      ]
     },
     "execution_count": 20,
     "metadata": {},
     "output_type": "execute_result"
    }
   ],
   "source": [
    "np.dot(many[0], many[1])"
   ]
  },
  {
   "cell_type": "code",
   "execution_count": 21,
   "metadata": {},
   "outputs": [
    {
     "data": {
      "text/plain": [
       "0.9224194"
      ]
     },
     "execution_count": 21,
     "metadata": {},
     "output_type": "execute_result"
    }
   ],
   "source": [
    "np.dot(catrun_en, catrun_es)"
   ]
  },
  {
   "cell_type": "code",
   "execution_count": 22,
   "metadata": {},
   "outputs": [
    {
     "data": {
      "text/plain": [
       "array([[1, 2],\n",
       "       [3, 4]])"
      ]
     },
     "execution_count": 22,
     "metadata": {},
     "output_type": "execute_result"
    }
   ],
   "source": [
    "small = np.array([[1, 2], [3, 4]])\n",
    "small"
   ]
  },
  {
   "cell_type": "code",
   "execution_count": 23,
   "metadata": {},
   "outputs": [
    {
     "data": {
      "text/plain": [
       "array([[1, 3],\n",
       "       [2, 4]])"
      ]
     },
     "execution_count": 23,
     "metadata": {},
     "output_type": "execute_result"
    }
   ],
   "source": [
    "small.transpose()"
   ]
  },
  {
   "cell_type": "code",
   "execution_count": 24,
   "metadata": {},
   "outputs": [
    {
     "data": {
      "text/plain": [
       "array([[0.99999976, 0.76505584, 0.7345198 , 0.75117296, 0.7228675 ],\n",
       "       [0.76505584, 1.        , 0.9224138 , 0.8857111 , 0.8422665 ],\n",
       "       [0.7345198 , 0.9224138 , 1.        , 0.8305976 , 0.89663   ],\n",
       "       [0.75117296, 0.8857111 , 0.8305976 , 1.0000002 , 0.9269196 ],\n",
       "       [0.7228675 , 0.8422665 , 0.89663   , 0.9269196 , 1.        ]],\n",
       "      dtype=float32)"
      ]
     },
     "execution_count": 24,
     "metadata": {},
     "output_type": "execute_result"
    }
   ],
   "source": [
    "table = many @ many.transpose()\n",
    "table"
   ]
  },
  {
   "cell_type": "code",
   "execution_count": 25,
   "metadata": {},
   "outputs": [
    {
     "data": {
      "text/html": [
       "<table>\n",
       "<tbody>\n",
       "<tr><td style=\"text-align: right;\">0.999999762</td><td style=\"text-align: right;\">0.765055835</td><td style=\"text-align: right;\">0.734519780</td><td style=\"text-align: right;\">0.751172960</td><td style=\"text-align: right;\">0.722867489</td></tr>\n",
       "<tr><td style=\"text-align: right;\">0.765055835</td><td style=\"text-align: right;\">1.000000000</td><td style=\"text-align: right;\">0.922413826</td><td style=\"text-align: right;\">0.885711074</td><td style=\"text-align: right;\">0.842266500</td></tr>\n",
       "<tr><td style=\"text-align: right;\">0.734519780</td><td style=\"text-align: right;\">0.922413826</td><td style=\"text-align: right;\">1.000000000</td><td style=\"text-align: right;\">0.830597579</td><td style=\"text-align: right;\">0.896629989</td></tr>\n",
       "<tr><td style=\"text-align: right;\">0.751172960</td><td style=\"text-align: right;\">0.885711074</td><td style=\"text-align: right;\">0.830597579</td><td style=\"text-align: right;\">1.000000238</td><td style=\"text-align: right;\">0.926919580</td></tr>\n",
       "<tr><td style=\"text-align: right;\">0.722867489</td><td style=\"text-align: right;\">0.842266500</td><td style=\"text-align: right;\">0.896629989</td><td style=\"text-align: right;\">0.926919580</td><td style=\"text-align: right;\">1.000000000</td></tr>\n",
       "</tbody>\n",
       "</table>"
      ],
      "text/plain": [
       "'<table>\\n<tbody>\\n<tr><td style=\"text-align: right;\">0.999999762</td><td style=\"text-align: right;\">0.765055835</td><td style=\"text-align: right;\">0.734519780</td><td style=\"text-align: right;\">0.751172960</td><td style=\"text-align: right;\">0.722867489</td></tr>\\n<tr><td style=\"text-align: right;\">0.765055835</td><td style=\"text-align: right;\">1.000000000</td><td style=\"text-align: right;\">0.922413826</td><td style=\"text-align: right;\">0.885711074</td><td style=\"text-align: right;\">0.842266500</td></tr>\\n<tr><td style=\"text-align: right;\">0.734519780</td><td style=\"text-align: right;\">0.922413826</td><td style=\"text-align: right;\">1.000000000</td><td style=\"text-align: right;\">0.830597579</td><td style=\"text-align: right;\">0.896629989</td></tr>\\n<tr><td style=\"text-align: right;\">0.751172960</td><td style=\"text-align: right;\">0.885711074</td><td style=\"text-align: right;\">0.830597579</td><td style=\"text-align: right;\">1.000000238</td><td style=\"text-align: right;\">0.926919580</td></tr>\\n<tr><td style=\"text-align: right;\">0.722867489</td><td style=\"text-align: right;\">0.842266500</td><td style=\"text-align: right;\">0.896629989</td><td style=\"text-align: right;\">0.926919580</td><td style=\"text-align: right;\">1.000000000</td></tr>\\n</tbody>\\n</table>'"
      ]
     },
     "execution_count": 25,
     "metadata": {},
     "output_type": "execute_result"
    }
   ],
   "source": [
    "tabulate(table, tablefmt='html', floatfmt='.9f')"
   ]
  },
  {
   "attachments": {},
   "cell_type": "markdown",
   "metadata": {},
   "source": [
    "## `embed_one_eu` and `embed_many_eu`\n",
    "\n",
    "These functions use functions in `openai.embeddings_utils`."
   ]
  },
  {
   "attachments": {},
   "cell_type": "markdown",
   "metadata": {},
   "source": [
    "### `embed.embed_one_eu`"
   ]
  },
  {
   "cell_type": "code",
   "execution_count": 26,
   "metadata": {},
   "outputs": [],
   "source": [
    "embedding_eu = embed.embed_one_eu('Your text string goes here')"
   ]
  },
  {
   "cell_type": "code",
   "execution_count": 27,
   "metadata": {},
   "outputs": [
    {
     "data": {
      "text/plain": [
       "array([-7.0175570e-03, -5.3303856e-03,  1.1863974e-02, ...,\n",
       "       -1.7006150e-02, -8.3129737e-05, -2.4037149e-02], dtype=float32)"
      ]
     },
     "execution_count": 27,
     "metadata": {},
     "output_type": "execute_result"
    }
   ],
   "source": [
    "embedding_eu"
   ]
  },
  {
   "cell_type": "code",
   "execution_count": 28,
   "metadata": {},
   "outputs": [
    {
     "data": {
      "text/plain": [
       "numpy.ndarray"
      ]
     },
     "execution_count": 28,
     "metadata": {},
     "output_type": "execute_result"
    }
   ],
   "source": [
    "type(embedding_eu)"
   ]
  },
  {
   "cell_type": "code",
   "execution_count": 29,
   "metadata": {},
   "outputs": [],
   "source": [
    "cat_eu = embed.embed_one_eu('cat')\n",
    "gato_eu = embed.embed_one_eu('gato')"
   ]
  },
  {
   "cell_type": "code",
   "execution_count": 30,
   "metadata": {},
   "outputs": [
    {
     "data": {
      "text/plain": [
       "0.84464866"
      ]
     },
     "execution_count": 30,
     "metadata": {},
     "output_type": "execute_result"
    }
   ],
   "source": [
    "np.dot(cat_eu, gato_eu)"
   ]
  },
  {
   "cell_type": "code",
   "execution_count": 31,
   "metadata": {},
   "outputs": [
    {
     "data": {
      "text/plain": [
       "0.76448596"
      ]
     },
     "execution_count": 31,
     "metadata": {},
     "output_type": "execute_result"
    }
   ],
   "source": [
    "np.dot(cat_eu, embedding_eu)"
   ]
  },
  {
   "cell_type": "code",
   "execution_count": 32,
   "metadata": {},
   "outputs": [],
   "source": [
    "catrun_en_eu = embed.embed_one_eu('The cat runs.')\n",
    "catrun_es_eu = embed.embed_one_eu('El gato corre.')\n",
    "dogwalk_en_eu = embed.embed_one_eu('The dog walks.')\n",
    "dogwalk_es_eu = embed.embed_one_eu('El perro camina.')"
   ]
  },
  {
   "cell_type": "code",
   "execution_count": 33,
   "metadata": {},
   "outputs": [
    {
     "data": {
      "text/plain": [
       "0.9224139"
      ]
     },
     "execution_count": 33,
     "metadata": {},
     "output_type": "execute_result"
    }
   ],
   "source": [
    "np.dot(catrun_en_eu, catrun_es_eu)"
   ]
  },
  {
   "cell_type": "code",
   "execution_count": 34,
   "metadata": {},
   "outputs": [
    {
     "data": {
      "text/plain": [
       "0.7649616"
      ]
     },
     "execution_count": 34,
     "metadata": {},
     "output_type": "execute_result"
    }
   ],
   "source": [
    "np.dot(catrun_en_eu, embedding_eu)"
   ]
  },
  {
   "cell_type": "code",
   "execution_count": 35,
   "metadata": {},
   "outputs": [
    {
     "data": {
      "text/plain": [
       "0.9263848"
      ]
     },
     "execution_count": 35,
     "metadata": {},
     "output_type": "execute_result"
    }
   ],
   "source": [
    "np.dot(dogwalk_en_eu, dogwalk_es_eu)"
   ]
  },
  {
   "cell_type": "code",
   "execution_count": 36,
   "metadata": {},
   "outputs": [
    {
     "data": {
      "text/plain": [
       "0.8857113"
      ]
     },
     "execution_count": 36,
     "metadata": {},
     "output_type": "execute_result"
    }
   ],
   "source": [
    "np.dot(catrun_en_eu, dogwalk_en_eu)"
   ]
  },
  {
   "cell_type": "code",
   "execution_count": 37,
   "metadata": {},
   "outputs": [
    {
     "data": {
      "text/plain": [
       "0.89643717"
      ]
     },
     "execution_count": 37,
     "metadata": {},
     "output_type": "execute_result"
    }
   ],
   "source": [
    "np.dot(catrun_es_eu, dogwalk_es_eu)"
   ]
  },
  {
   "cell_type": "code",
   "execution_count": 38,
   "metadata": {},
   "outputs": [
    {
     "data": {
      "text/plain": [
       "0.84225607"
      ]
     },
     "execution_count": 38,
     "metadata": {},
     "output_type": "execute_result"
    }
   ],
   "source": [
    "np.dot(catrun_en_eu, dogwalk_es_eu)"
   ]
  },
  {
   "cell_type": "code",
   "execution_count": 39,
   "metadata": {},
   "outputs": [
    {
     "data": {
      "text/plain": [
       "0.8305974"
      ]
     },
     "execution_count": 39,
     "metadata": {},
     "output_type": "execute_result"
    }
   ],
   "source": [
    "np.dot(catrun_es_eu, dogwalk_en_eu)"
   ]
  },
  {
   "cell_type": "code",
   "execution_count": 40,
   "metadata": {},
   "outputs": [
    {
     "data": {
      "text/plain": [
       "(1536,)"
      ]
     },
     "execution_count": 40,
     "metadata": {},
     "output_type": "execute_result"
    }
   ],
   "source": [
    "catrun_en_eu.shape"
   ]
  },
  {
   "attachments": {},
   "cell_type": "markdown",
   "metadata": {},
   "source": [
    "### `embed.embed_many_eu`"
   ]
  },
  {
   "cell_type": "code",
   "execution_count": 41,
   "metadata": {},
   "outputs": [
    {
     "data": {
      "text/plain": [
       "(5, 1536)"
      ]
     },
     "execution_count": 41,
     "metadata": {},
     "output_type": "execute_result"
    }
   ],
   "source": [
    "many_eu = embed.embed_many_eu([\n",
    "    'Your text string goes here',\n",
    "    'The cat runs.',\n",
    "    'El gato corre.',\n",
    "    'The dog walks.',\n",
    "    'El perro camina.',\n",
    "])\n",
    "many.shape"
   ]
  },
  {
   "cell_type": "code",
   "execution_count": 42,
   "metadata": {},
   "outputs": [
    {
     "data": {
      "text/plain": [
       "array([[-6.92928350e-03, -5.33642201e-03,  1.18758921e-02, ...,\n",
       "        -1.70174073e-02, -4.54713227e-05, -2.40475051e-02],\n",
       "       [-9.09975544e-03, -4.11655614e-03, -1.11006815e-02, ...,\n",
       "        -2.47758050e-02,  5.55989938e-03, -2.42022909e-02],\n",
       "       [-1.42147215e-02, -2.92078988e-03,  3.90018802e-04, ...,\n",
       "        -8.08201265e-03,  4.93654609e-03, -6.90483581e-03],\n",
       "       [ 9.59877204e-03, -6.36116648e-03, -5.89548331e-03, ...,\n",
       "        -1.23801986e-02, -3.47282301e-04, -1.70813799e-02],\n",
       "       [ 3.45983449e-03, -7.59354141e-03,  1.42495893e-03, ...,\n",
       "         4.55097703e-04, -8.73538014e-03, -6.12724526e-03]], dtype=float32)"
      ]
     },
     "execution_count": 42,
     "metadata": {},
     "output_type": "execute_result"
    }
   ],
   "source": [
    "many_eu"
   ]
  },
  {
   "cell_type": "code",
   "execution_count": 43,
   "metadata": {},
   "outputs": [
    {
     "data": {
      "text/plain": [
       "0.7649158"
      ]
     },
     "execution_count": 43,
     "metadata": {},
     "output_type": "execute_result"
    }
   ],
   "source": [
    "np.dot(many_eu[0], many_eu[1])"
   ]
  },
  {
   "cell_type": "code",
   "execution_count": 44,
   "metadata": {},
   "outputs": [
    {
     "data": {
      "text/plain": [
       "0.9224139"
      ]
     },
     "execution_count": 44,
     "metadata": {},
     "output_type": "execute_result"
    }
   ],
   "source": [
    "np.dot(catrun_en_eu, catrun_es_eu)"
   ]
  },
  {
   "cell_type": "code",
   "execution_count": 45,
   "metadata": {},
   "outputs": [
    {
     "data": {
      "text/plain": [
       "array([[1.0000004 , 0.7649161 , 0.73437065, 0.7510821 , 0.7233679 ],\n",
       "       [0.7649161 , 1.0000002 , 0.92235714, 0.885664  , 0.8423544 ],\n",
       "       [0.73437065, 0.92235714, 1.0000001 , 0.8305839 , 0.8966306 ],\n",
       "       [0.7510821 , 0.885664  , 0.8305839 , 1.0000004 , 0.9264928 ],\n",
       "       [0.7233679 , 0.8423544 , 0.8966306 , 0.9264928 , 0.99999976]],\n",
       "      dtype=float32)"
      ]
     },
     "execution_count": 45,
     "metadata": {},
     "output_type": "execute_result"
    }
   ],
   "source": [
    "table_eu = many_eu @ many_eu.transpose()\n",
    "table_eu"
   ]
  },
  {
   "cell_type": "code",
   "execution_count": 46,
   "metadata": {},
   "outputs": [
    {
     "data": {
      "text/html": [
       "<table>\n",
       "<tbody>\n",
       "<tr><td style=\"text-align: right;\">1.000000358</td><td style=\"text-align: right;\">0.764916122</td><td style=\"text-align: right;\">0.734370649</td><td style=\"text-align: right;\">0.751082122</td><td style=\"text-align: right;\">0.723367929</td></tr>\n",
       "<tr><td style=\"text-align: right;\">0.764916122</td><td style=\"text-align: right;\">1.000000238</td><td style=\"text-align: right;\">0.922357142</td><td style=\"text-align: right;\">0.885663986</td><td style=\"text-align: right;\">0.842354417</td></tr>\n",
       "<tr><td style=\"text-align: right;\">0.734370649</td><td style=\"text-align: right;\">0.922357142</td><td style=\"text-align: right;\">1.000000119</td><td style=\"text-align: right;\">0.830583870</td><td style=\"text-align: right;\">0.896630585</td></tr>\n",
       "<tr><td style=\"text-align: right;\">0.751082122</td><td style=\"text-align: right;\">0.885663986</td><td style=\"text-align: right;\">0.830583870</td><td style=\"text-align: right;\">1.000000358</td><td style=\"text-align: right;\">0.926492810</td></tr>\n",
       "<tr><td style=\"text-align: right;\">0.723367929</td><td style=\"text-align: right;\">0.842354417</td><td style=\"text-align: right;\">0.896630585</td><td style=\"text-align: right;\">0.926492810</td><td style=\"text-align: right;\">0.999999762</td></tr>\n",
       "</tbody>\n",
       "</table>"
      ],
      "text/plain": [
       "'<table>\\n<tbody>\\n<tr><td style=\"text-align: right;\">1.000000358</td><td style=\"text-align: right;\">0.764916122</td><td style=\"text-align: right;\">0.734370649</td><td style=\"text-align: right;\">0.751082122</td><td style=\"text-align: right;\">0.723367929</td></tr>\\n<tr><td style=\"text-align: right;\">0.764916122</td><td style=\"text-align: right;\">1.000000238</td><td style=\"text-align: right;\">0.922357142</td><td style=\"text-align: right;\">0.885663986</td><td style=\"text-align: right;\">0.842354417</td></tr>\\n<tr><td style=\"text-align: right;\">0.734370649</td><td style=\"text-align: right;\">0.922357142</td><td style=\"text-align: right;\">1.000000119</td><td style=\"text-align: right;\">0.830583870</td><td style=\"text-align: right;\">0.896630585</td></tr>\\n<tr><td style=\"text-align: right;\">0.751082122</td><td style=\"text-align: right;\">0.885663986</td><td style=\"text-align: right;\">0.830583870</td><td style=\"text-align: right;\">1.000000358</td><td style=\"text-align: right;\">0.926492810</td></tr>\\n<tr><td style=\"text-align: right;\">0.723367929</td><td style=\"text-align: right;\">0.842354417</td><td style=\"text-align: right;\">0.896630585</td><td style=\"text-align: right;\">0.926492810</td><td style=\"text-align: right;\">0.999999762</td></tr>\\n</tbody>\\n</table>'"
      ]
     },
     "execution_count": 46,
     "metadata": {},
     "output_type": "execute_result"
    }
   ],
   "source": [
    "tabulate(table_eu, tablefmt='html', floatfmt='.9f')"
   ]
  },
  {
   "attachments": {},
   "cell_type": "markdown",
   "metadata": {},
   "source": [
    "## `embed_one_req` and `embed_many_req`\n",
    "\n",
    "These functions use the `requests` library. They do not use the `openai` module."
   ]
  },
  {
   "attachments": {},
   "cell_type": "markdown",
   "metadata": {},
   "source": [
    "### `embed.embed_one_req`"
   ]
  },
  {
   "cell_type": "code",
   "execution_count": 47,
   "metadata": {},
   "outputs": [],
   "source": [
    "embedding_req = embed.embed_one_req('Your text string goes here')"
   ]
  },
  {
   "cell_type": "code",
   "execution_count": 48,
   "metadata": {},
   "outputs": [
    {
     "data": {
      "text/plain": [
       "array([-6.9292835e-03, -5.3364220e-03,  1.1875892e-02, ...,\n",
       "       -1.7017407e-02, -4.5471323e-05, -2.4047505e-02], dtype=float32)"
      ]
     },
     "execution_count": 48,
     "metadata": {},
     "output_type": "execute_result"
    }
   ],
   "source": [
    "embedding_req"
   ]
  },
  {
   "cell_type": "code",
   "execution_count": 49,
   "metadata": {},
   "outputs": [
    {
     "data": {
      "text/plain": [
       "numpy.ndarray"
      ]
     },
     "execution_count": 49,
     "metadata": {},
     "output_type": "execute_result"
    }
   ],
   "source": [
    "type(embedding_req)"
   ]
  },
  {
   "cell_type": "code",
   "execution_count": 50,
   "metadata": {},
   "outputs": [],
   "source": [
    "cat_req = embed.embed_one_req('cat')\n",
    "gato_req = embed.embed_one_req('gato')"
   ]
  },
  {
   "cell_type": "code",
   "execution_count": 51,
   "metadata": {},
   "outputs": [
    {
     "data": {
      "text/plain": [
       "0.8444619"
      ]
     },
     "execution_count": 51,
     "metadata": {},
     "output_type": "execute_result"
    }
   ],
   "source": [
    "np.dot(cat_req, gato_req)"
   ]
  },
  {
   "cell_type": "code",
   "execution_count": 52,
   "metadata": {},
   "outputs": [
    {
     "data": {
      "text/plain": [
       "0.76415867"
      ]
     },
     "execution_count": 52,
     "metadata": {},
     "output_type": "execute_result"
    }
   ],
   "source": [
    "np.dot(cat_req, embedding_req)"
   ]
  },
  {
   "cell_type": "code",
   "execution_count": 53,
   "metadata": {},
   "outputs": [],
   "source": [
    "catrun_en_req = embed.embed_one_req('The cat runs.')\n",
    "catrun_es_req = embed.embed_one_req('El gato corre.')\n",
    "dogwalk_en_req = embed.embed_one_req('The dog walks.')\n",
    "dogwalk_es_req = embed.embed_one_req('El perro camina.')"
   ]
  },
  {
   "cell_type": "code",
   "execution_count": 54,
   "metadata": {},
   "outputs": [
    {
     "data": {
      "text/plain": [
       "0.9224324"
      ]
     },
     "execution_count": 54,
     "metadata": {},
     "output_type": "execute_result"
    }
   ],
   "source": [
    "np.dot(catrun_en_req, catrun_es_req)"
   ]
  },
  {
   "cell_type": "code",
   "execution_count": 55,
   "metadata": {},
   "outputs": [
    {
     "data": {
      "text/plain": [
       "0.7649304"
      ]
     },
     "execution_count": 55,
     "metadata": {},
     "output_type": "execute_result"
    }
   ],
   "source": [
    "np.dot(catrun_en_req, embedding_req)"
   ]
  },
  {
   "cell_type": "code",
   "execution_count": 56,
   "metadata": {},
   "outputs": [
    {
     "data": {
      "text/plain": [
       "0.92692006"
      ]
     },
     "execution_count": 56,
     "metadata": {},
     "output_type": "execute_result"
    }
   ],
   "source": [
    "np.dot(dogwalk_en_req, dogwalk_es_req)"
   ]
  },
  {
   "cell_type": "code",
   "execution_count": 57,
   "metadata": {},
   "outputs": [
    {
     "data": {
      "text/plain": [
       "0.88560975"
      ]
     },
     "execution_count": 57,
     "metadata": {},
     "output_type": "execute_result"
    }
   ],
   "source": [
    "np.dot(catrun_en_req, dogwalk_en_req)"
   ]
  },
  {
   "cell_type": "code",
   "execution_count": 58,
   "metadata": {},
   "outputs": [
    {
     "data": {
      "text/plain": [
       "0.8966301"
      ]
     },
     "execution_count": 58,
     "metadata": {},
     "output_type": "execute_result"
    }
   ],
   "source": [
    "np.dot(catrun_es_req, dogwalk_es_req)"
   ]
  },
  {
   "cell_type": "code",
   "execution_count": 59,
   "metadata": {},
   "outputs": [
    {
     "data": {
      "text/plain": [
       "0.8422076"
      ]
     },
     "execution_count": 59,
     "metadata": {},
     "output_type": "execute_result"
    }
   ],
   "source": [
    "np.dot(catrun_en_req, dogwalk_es_req)"
   ]
  },
  {
   "cell_type": "code",
   "execution_count": 60,
   "metadata": {},
   "outputs": [
    {
     "data": {
      "text/plain": [
       "0.8305751"
      ]
     },
     "execution_count": 60,
     "metadata": {},
     "output_type": "execute_result"
    }
   ],
   "source": [
    "np.dot(catrun_es_req, dogwalk_en_req)"
   ]
  },
  {
   "cell_type": "code",
   "execution_count": 61,
   "metadata": {},
   "outputs": [
    {
     "data": {
      "text/plain": [
       "(1536,)"
      ]
     },
     "execution_count": 61,
     "metadata": {},
     "output_type": "execute_result"
    }
   ],
   "source": [
    "catrun_en_req.shape"
   ]
  },
  {
   "attachments": {},
   "cell_type": "markdown",
   "metadata": {},
   "source": [
    "### `embed.embed_many_req`"
   ]
  },
  {
   "cell_type": "code",
   "execution_count": 62,
   "metadata": {},
   "outputs": [
    {
     "data": {
      "text/plain": [
       "(5, 1536)"
      ]
     },
     "execution_count": 62,
     "metadata": {},
     "output_type": "execute_result"
    }
   ],
   "source": [
    "many_req = embed.embed_many_req([\n",
    "    'Your text string goes here',\n",
    "    'The cat runs.',\n",
    "    'El gato corre.',\n",
    "    'The dog walks.',\n",
    "    'El perro camina.',\n",
    "])\n",
    "many.shape"
   ]
  },
  {
   "cell_type": "code",
   "execution_count": 63,
   "metadata": {},
   "outputs": [
    {
     "data": {
      "text/plain": [
       "array([[-6.9754184e-03, -5.3491648e-03,  1.1907940e-02, ...,\n",
       "        -1.7028622e-02, -8.8358240e-05, -2.4030920e-02],\n",
       "       [-9.0430975e-03, -4.0786345e-03, -1.1095160e-02, ...,\n",
       "        -2.4764959e-02,  5.5921902e-03, -2.4191400e-02],\n",
       "       [-1.4204165e-02, -2.9433765e-03,  4.0550550e-04, ...,\n",
       "        -8.1148576e-03,  4.9277819e-03, -6.8172398e-03],\n",
       "       [ 9.5597431e-03, -6.3604913e-03, -5.9328689e-03, ...,\n",
       "        -1.2309198e-02, -3.6862658e-04, -1.7130248e-02],\n",
       "       [ 3.3449344e-03, -8.1113884e-03,  1.7457254e-03, ...,\n",
       "         9.9317353e-05, -9.5703155e-03, -5.5582649e-03]], dtype=float32)"
      ]
     },
     "execution_count": 63,
     "metadata": {},
     "output_type": "execute_result"
    }
   ],
   "source": [
    "many_req"
   ]
  },
  {
   "cell_type": "code",
   "execution_count": 64,
   "metadata": {},
   "outputs": [
    {
     "data": {
      "text/plain": [
       "0.7650559"
      ]
     },
     "execution_count": 64,
     "metadata": {},
     "output_type": "execute_result"
    }
   ],
   "source": [
    "np.dot(many_req[0], many_req[1])"
   ]
  },
  {
   "cell_type": "code",
   "execution_count": 65,
   "metadata": {},
   "outputs": [
    {
     "data": {
      "text/plain": [
       "0.9224324"
      ]
     },
     "execution_count": 65,
     "metadata": {},
     "output_type": "execute_result"
    }
   ],
   "source": [
    "np.dot(catrun_en_req, catrun_es_req)"
   ]
  },
  {
   "cell_type": "code",
   "execution_count": 66,
   "metadata": {},
   "outputs": [
    {
     "data": {
      "text/plain": [
       "array([[0.99999976, 0.76505584, 0.7345198 , 0.75117296, 0.7228675 ],\n",
       "       [0.76505584, 1.        , 0.9224138 , 0.8857111 , 0.8422665 ],\n",
       "       [0.7345198 , 0.9224138 , 1.        , 0.8305976 , 0.89663   ],\n",
       "       [0.75117296, 0.8857111 , 0.8305976 , 1.0000002 , 0.9269196 ],\n",
       "       [0.7228675 , 0.8422665 , 0.89663   , 0.9269196 , 1.        ]],\n",
       "      dtype=float32)"
      ]
     },
     "execution_count": 66,
     "metadata": {},
     "output_type": "execute_result"
    }
   ],
   "source": [
    "table_req = many_req @ many_req.transpose()\n",
    "table_req"
   ]
  },
  {
   "cell_type": "code",
   "execution_count": 67,
   "metadata": {},
   "outputs": [
    {
     "data": {
      "text/html": [
       "<table>\n",
       "<tbody>\n",
       "<tr><td style=\"text-align: right;\">0.999999762</td><td style=\"text-align: right;\">0.765055835</td><td style=\"text-align: right;\">0.734519780</td><td style=\"text-align: right;\">0.751172960</td><td style=\"text-align: right;\">0.722867489</td></tr>\n",
       "<tr><td style=\"text-align: right;\">0.765055835</td><td style=\"text-align: right;\">1.000000000</td><td style=\"text-align: right;\">0.922413826</td><td style=\"text-align: right;\">0.885711074</td><td style=\"text-align: right;\">0.842266500</td></tr>\n",
       "<tr><td style=\"text-align: right;\">0.734519780</td><td style=\"text-align: right;\">0.922413826</td><td style=\"text-align: right;\">1.000000000</td><td style=\"text-align: right;\">0.830597579</td><td style=\"text-align: right;\">0.896629989</td></tr>\n",
       "<tr><td style=\"text-align: right;\">0.751172960</td><td style=\"text-align: right;\">0.885711074</td><td style=\"text-align: right;\">0.830597579</td><td style=\"text-align: right;\">1.000000238</td><td style=\"text-align: right;\">0.926919580</td></tr>\n",
       "<tr><td style=\"text-align: right;\">0.722867489</td><td style=\"text-align: right;\">0.842266500</td><td style=\"text-align: right;\">0.896629989</td><td style=\"text-align: right;\">0.926919580</td><td style=\"text-align: right;\">1.000000000</td></tr>\n",
       "</tbody>\n",
       "</table>"
      ],
      "text/plain": [
       "'<table>\\n<tbody>\\n<tr><td style=\"text-align: right;\">0.999999762</td><td style=\"text-align: right;\">0.765055835</td><td style=\"text-align: right;\">0.734519780</td><td style=\"text-align: right;\">0.751172960</td><td style=\"text-align: right;\">0.722867489</td></tr>\\n<tr><td style=\"text-align: right;\">0.765055835</td><td style=\"text-align: right;\">1.000000000</td><td style=\"text-align: right;\">0.922413826</td><td style=\"text-align: right;\">0.885711074</td><td style=\"text-align: right;\">0.842266500</td></tr>\\n<tr><td style=\"text-align: right;\">0.734519780</td><td style=\"text-align: right;\">0.922413826</td><td style=\"text-align: right;\">1.000000000</td><td style=\"text-align: right;\">0.830597579</td><td style=\"text-align: right;\">0.896629989</td></tr>\\n<tr><td style=\"text-align: right;\">0.751172960</td><td style=\"text-align: right;\">0.885711074</td><td style=\"text-align: right;\">0.830597579</td><td style=\"text-align: right;\">1.000000238</td><td style=\"text-align: right;\">0.926919580</td></tr>\\n<tr><td style=\"text-align: right;\">0.722867489</td><td style=\"text-align: right;\">0.842266500</td><td style=\"text-align: right;\">0.896629989</td><td style=\"text-align: right;\">0.926919580</td><td style=\"text-align: right;\">1.000000000</td></tr>\\n</tbody>\\n</table>'"
      ]
     },
     "execution_count": 67,
     "metadata": {},
     "output_type": "execute_result"
    }
   ],
   "source": [
    "tabulate(table_req, tablefmt='html', floatfmt='.9f')"
   ]
  }
 ],
 "metadata": {
  "kernelspec": {
   "display_name": "EmbeddingScratchwork",
   "language": "python",
   "name": "python3"
  },
  "language_info": {
   "codemirror_mode": {
    "name": "ipython",
    "version": 3
   },
   "file_extension": ".py",
   "mimetype": "text/x-python",
   "name": "python",
   "nbconvert_exporter": "python",
   "pygments_lexer": "ipython3",
   "version": "3.11.3"
  },
  "orig_nbformat": 4,
  "vscode": {
   "interpreter": {
    "hash": "4cf5c947be7cf026010f397dd15444466c4e3b0329ddb1d6d34b5de73f9f35dc"
   }
  }
 },
 "nbformat": 4,
 "nbformat_minor": 2
}
