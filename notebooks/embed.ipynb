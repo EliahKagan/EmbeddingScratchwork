{
 "cells": [
  {
   "attachments": {},
   "cell_type": "markdown",
   "metadata": {},
   "source": [
    "# Experiments with embeddings"
   ]
  },
  {
   "cell_type": "code",
   "execution_count": 1,
   "metadata": {},
   "outputs": [],
   "source": [
    "import numpy as np\n",
    "from tabulate import tabulate\n",
    "\n",
    "import embed"
   ]
  },
  {
   "cell_type": "code",
   "execution_count": 2,
   "metadata": {},
   "outputs": [
    {
     "data": {
      "text/plain": [
       "array([1., 2., 3., 4.], dtype=float32)"
      ]
     },
     "execution_count": 2,
     "metadata": {},
     "output_type": "execute_result"
    }
   ],
   "source": [
    "np.array([1, 2, 3, 4], dtype=np.float32)"
   ]
  },
  {
   "attachments": {},
   "cell_type": "markdown",
   "metadata": {},
   "source": [
    "## `embed_one` and `embed_many`\n",
    "\n",
    "These functions use `openai.Embedding.create`."
   ]
  },
  {
   "attachments": {},
   "cell_type": "markdown",
   "metadata": {},
   "source": [
    "### `embed.embed_one`"
   ]
  },
  {
   "cell_type": "code",
   "execution_count": 3,
   "metadata": {},
   "outputs": [],
   "source": [
    "embedding = embed.embed_one(\"Your text string goes here\")"
   ]
  },
  {
   "cell_type": "code",
   "execution_count": 4,
   "metadata": {},
   "outputs": [
    {
     "data": {
      "text/plain": [
       "array([-6.9754184e-03, -5.3491648e-03,  1.1907940e-02, ...,\n",
       "       -1.7028622e-02, -8.8358240e-05, -2.4030920e-02], dtype=float32)"
      ]
     },
     "execution_count": 4,
     "metadata": {},
     "output_type": "execute_result"
    }
   ],
   "source": [
    "embedding"
   ]
  },
  {
   "cell_type": "code",
   "execution_count": 5,
   "metadata": {},
   "outputs": [
    {
     "data": {
      "text/plain": [
       "numpy.ndarray"
      ]
     },
     "execution_count": 5,
     "metadata": {},
     "output_type": "execute_result"
    }
   ],
   "source": [
    "type(embedding)"
   ]
  },
  {
   "cell_type": "code",
   "execution_count": 6,
   "metadata": {},
   "outputs": [],
   "source": [
    "cat = embed.embed_one(\"cat\")\n",
    "gato = embed.embed_one(\"gato\")"
   ]
  },
  {
   "cell_type": "code",
   "execution_count": 7,
   "metadata": {},
   "outputs": [
    {
     "data": {
      "text/plain": [
       "0.8447363"
      ]
     },
     "execution_count": 7,
     "metadata": {},
     "output_type": "execute_result"
    }
   ],
   "source": [
    "np.dot(cat, gato)"
   ]
  },
  {
   "cell_type": "code",
   "execution_count": 8,
   "metadata": {},
   "outputs": [
    {
     "data": {
      "text/plain": [
       "0.76458704"
      ]
     },
     "execution_count": 8,
     "metadata": {},
     "output_type": "execute_result"
    }
   ],
   "source": [
    "np.dot(cat, embedding)"
   ]
  },
  {
   "cell_type": "code",
   "execution_count": 9,
   "metadata": {},
   "outputs": [],
   "source": [
    "catrun_en = embed.embed_one(\"The cat runs.\")\n",
    "catrun_es = embed.embed_one(\"El gato corre.\")\n",
    "dogwalk_en = embed.embed_one(\"The dog walks.\")\n",
    "dogwalk_es = embed.embed_one(\"El perro camina.\")"
   ]
  },
  {
   "cell_type": "code",
   "execution_count": 10,
   "metadata": {},
   "outputs": [
    {
     "data": {
      "text/plain": [
       "0.92243814"
      ]
     },
     "execution_count": 10,
     "metadata": {},
     "output_type": "execute_result"
    }
   ],
   "source": [
    "np.dot(catrun_en, catrun_es)"
   ]
  },
  {
   "cell_type": "code",
   "execution_count": 11,
   "metadata": {},
   "outputs": [
    {
     "data": {
      "text/plain": [
       "0.7650094"
      ]
     },
     "execution_count": 11,
     "metadata": {},
     "output_type": "execute_result"
    }
   ],
   "source": [
    "np.dot(catrun_en, embedding)"
   ]
  },
  {
   "cell_type": "code",
   "execution_count": 12,
   "metadata": {},
   "outputs": [
    {
     "data": {
      "text/plain": [
       "0.92638606"
      ]
     },
     "execution_count": 12,
     "metadata": {},
     "output_type": "execute_result"
    }
   ],
   "source": [
    "np.dot(dogwalk_en, dogwalk_es)"
   ]
  },
  {
   "cell_type": "code",
   "execution_count": 13,
   "metadata": {},
   "outputs": [
    {
     "data": {
      "text/plain": [
       "0.88560975"
      ]
     },
     "execution_count": 13,
     "metadata": {},
     "output_type": "execute_result"
    }
   ],
   "source": [
    "np.dot(catrun_en, dogwalk_en)"
   ]
  },
  {
   "cell_type": "code",
   "execution_count": 14,
   "metadata": {},
   "outputs": [
    {
     "data": {
      "text/plain": [
       "0.89640963"
      ]
     },
     "execution_count": 14,
     "metadata": {},
     "output_type": "execute_result"
    }
   ],
   "source": [
    "np.dot(catrun_es, dogwalk_es)"
   ]
  },
  {
   "cell_type": "code",
   "execution_count": 15,
   "metadata": {},
   "outputs": [
    {
     "data": {
      "text/plain": [
       "0.8421978"
      ]
     },
     "execution_count": 15,
     "metadata": {},
     "output_type": "execute_result"
    }
   ],
   "source": [
    "np.dot(catrun_en, dogwalk_es)"
   ]
  },
  {
   "cell_type": "code",
   "execution_count": 16,
   "metadata": {},
   "outputs": [
    {
     "data": {
      "text/plain": [
       "0.8305687"
      ]
     },
     "execution_count": 16,
     "metadata": {},
     "output_type": "execute_result"
    }
   ],
   "source": [
    "np.dot(catrun_es, dogwalk_en)"
   ]
  },
  {
   "cell_type": "code",
   "execution_count": 17,
   "metadata": {},
   "outputs": [
    {
     "data": {
      "text/plain": [
       "(1536,)"
      ]
     },
     "execution_count": 17,
     "metadata": {},
     "output_type": "execute_result"
    }
   ],
   "source": [
    "catrun_en.shape"
   ]
  },
  {
   "attachments": {},
   "cell_type": "markdown",
   "metadata": {},
   "source": [
    "### `embed.embed_many`"
   ]
  },
  {
   "cell_type": "code",
   "execution_count": 18,
   "metadata": {},
   "outputs": [
    {
     "data": {
      "text/plain": [
       "(5, 1536)"
      ]
     },
     "execution_count": 18,
     "metadata": {},
     "output_type": "execute_result"
    }
   ],
   "source": [
    "many = embed.embed_many([\n",
    "    \"Your text string goes here\",\n",
    "    \"The cat runs.\",\n",
    "    \"El gato corre.\",\n",
    "    \"The dog walks.\",\n",
    "    \"El perro camina.\",\n",
    "])\n",
    "many.shape"
   ]
  },
  {
   "cell_type": "code",
   "execution_count": 19,
   "metadata": {},
   "outputs": [
    {
     "data": {
      "text/plain": [
       "array([[-6.9292835e-03, -5.3364220e-03,  1.1875892e-02, ...,\n",
       "        -1.7017407e-02, -4.5471323e-05, -2.4047505e-02],\n",
       "       [-9.1028195e-03, -4.1309856e-03, -1.1052059e-02, ...,\n",
       "        -2.4805024e-02,  5.5642496e-03, -2.4155278e-02],\n",
       "       [-1.4176358e-02, -2.9412776e-03,  3.8862362e-04, ...,\n",
       "        -8.0564748e-03,  4.8509724e-03, -6.8856594e-03],\n",
       "       [ 9.5758662e-03, -6.3913045e-03, -5.9445151e-03, ...,\n",
       "        -1.2389688e-02, -3.8638557e-04, -1.7123753e-02],\n",
       "       [ 3.4075065e-03, -7.4890251e-03,  1.3449042e-03, ...,\n",
       "         4.3373939e-04, -8.7621594e-03, -6.0973149e-03]], dtype=float32)"
      ]
     },
     "execution_count": 19,
     "metadata": {},
     "output_type": "execute_result"
    }
   ],
   "source": [
    "many"
   ]
  },
  {
   "cell_type": "code",
   "execution_count": 20,
   "metadata": {},
   "outputs": [
    {
     "data": {
      "text/plain": [
       "0.7650132"
      ]
     },
     "execution_count": 20,
     "metadata": {},
     "output_type": "execute_result"
    }
   ],
   "source": [
    "np.dot(many[0], many[1])"
   ]
  },
  {
   "cell_type": "code",
   "execution_count": 21,
   "metadata": {},
   "outputs": [
    {
     "data": {
      "text/plain": [
       "0.92243814"
      ]
     },
     "execution_count": 21,
     "metadata": {},
     "output_type": "execute_result"
    }
   ],
   "source": [
    "np.dot(catrun_en, catrun_es)"
   ]
  },
  {
   "cell_type": "code",
   "execution_count": 22,
   "metadata": {},
   "outputs": [
    {
     "data": {
      "text/plain": [
       "array([[1, 2],\n",
       "       [3, 4]])"
      ]
     },
     "execution_count": 22,
     "metadata": {},
     "output_type": "execute_result"
    }
   ],
   "source": [
    "small = np.array([[1, 2], [3, 4]])\n",
    "small"
   ]
  },
  {
   "cell_type": "code",
   "execution_count": 23,
   "metadata": {},
   "outputs": [
    {
     "data": {
      "text/plain": [
       "array([[1, 3],\n",
       "       [2, 4]])"
      ]
     },
     "execution_count": 23,
     "metadata": {},
     "output_type": "execute_result"
    }
   ],
   "source": [
    "small.transpose()"
   ]
  },
  {
   "cell_type": "code",
   "execution_count": 24,
   "metadata": {},
   "outputs": [
    {
     "data": {
      "text/plain": [
       "array([[1.0000004 , 0.7650132 , 0.73435843, 0.75096744, 0.7232142 ],\n",
       "       [0.7650132 , 0.9999998 , 0.92241925, 0.88574004, 0.84237677],\n",
       "       [0.73435843, 0.92241925, 0.9999999 , 0.8304955 , 0.8965036 ],\n",
       "       [0.75096744, 0.88574004, 0.8304955 , 1.0000004 , 0.92635864],\n",
       "       [0.7232142 , 0.84237677, 0.8965036 , 0.92635864, 1.0000005 ]],\n",
       "      dtype=float32)"
      ]
     },
     "execution_count": 24,
     "metadata": {},
     "output_type": "execute_result"
    }
   ],
   "source": [
    "table = many @ many.transpose()\n",
    "table"
   ]
  },
  {
   "cell_type": "code",
   "execution_count": 25,
   "metadata": {},
   "outputs": [
    {
     "data": {
      "text/html": [
       "<table>\n",
       "<tbody>\n",
       "<tr><td style=\"text-align: right;\">1.000000358</td><td style=\"text-align: right;\">0.765013218</td><td style=\"text-align: right;\">0.734358430</td><td style=\"text-align: right;\">0.750967443</td><td style=\"text-align: right;\">0.723214209</td></tr>\n",
       "<tr><td style=\"text-align: right;\">0.765013218</td><td style=\"text-align: right;\">0.999999821</td><td style=\"text-align: right;\">0.922419250</td><td style=\"text-align: right;\">0.885740042</td><td style=\"text-align: right;\">0.842376769</td></tr>\n",
       "<tr><td style=\"text-align: right;\">0.734358430</td><td style=\"text-align: right;\">0.922419250</td><td style=\"text-align: right;\">0.999999881</td><td style=\"text-align: right;\">0.830495477</td><td style=\"text-align: right;\">0.896503627</td></tr>\n",
       "<tr><td style=\"text-align: right;\">0.750967443</td><td style=\"text-align: right;\">0.885740042</td><td style=\"text-align: right;\">0.830495477</td><td style=\"text-align: right;\">1.000000358</td><td style=\"text-align: right;\">0.926358640</td></tr>\n",
       "<tr><td style=\"text-align: right;\">0.723214209</td><td style=\"text-align: right;\">0.842376769</td><td style=\"text-align: right;\">0.896503627</td><td style=\"text-align: right;\">0.926358640</td><td style=\"text-align: right;\">1.000000477</td></tr>\n",
       "</tbody>\n",
       "</table>"
      ],
      "text/plain": [
       "'<table>\\n<tbody>\\n<tr><td style=\"text-align: right;\">1.000000358</td><td style=\"text-align: right;\">0.765013218</td><td style=\"text-align: right;\">0.734358430</td><td style=\"text-align: right;\">0.750967443</td><td style=\"text-align: right;\">0.723214209</td></tr>\\n<tr><td style=\"text-align: right;\">0.765013218</td><td style=\"text-align: right;\">0.999999821</td><td style=\"text-align: right;\">0.922419250</td><td style=\"text-align: right;\">0.885740042</td><td style=\"text-align: right;\">0.842376769</td></tr>\\n<tr><td style=\"text-align: right;\">0.734358430</td><td style=\"text-align: right;\">0.922419250</td><td style=\"text-align: right;\">0.999999881</td><td style=\"text-align: right;\">0.830495477</td><td style=\"text-align: right;\">0.896503627</td></tr>\\n<tr><td style=\"text-align: right;\">0.750967443</td><td style=\"text-align: right;\">0.885740042</td><td style=\"text-align: right;\">0.830495477</td><td style=\"text-align: right;\">1.000000358</td><td style=\"text-align: right;\">0.926358640</td></tr>\\n<tr><td style=\"text-align: right;\">0.723214209</td><td style=\"text-align: right;\">0.842376769</td><td style=\"text-align: right;\">0.896503627</td><td style=\"text-align: right;\">0.926358640</td><td style=\"text-align: right;\">1.000000477</td></tr>\\n</tbody>\\n</table>'"
      ]
     },
     "execution_count": 25,
     "metadata": {},
     "output_type": "execute_result"
    }
   ],
   "source": [
    "tabulate(table, tablefmt='html', floatfmt='.9f')"
   ]
  },
  {
   "attachments": {},
   "cell_type": "markdown",
   "metadata": {},
   "source": [
    "## `embed_one_eu` and `embed_many_eu`\n",
    "\n",
    "These functions use functions in `openai.embeddings_utils`."
   ]
  },
  {
   "attachments": {},
   "cell_type": "markdown",
   "metadata": {},
   "source": [
    "### `embed.embed_one_eu`"
   ]
  },
  {
   "cell_type": "code",
   "execution_count": 26,
   "metadata": {},
   "outputs": [],
   "source": [
    "embedding_eu = embed.embed_one_eu(\"Your text string goes here\")"
   ]
  },
  {
   "cell_type": "code",
   "execution_count": 27,
   "metadata": {},
   "outputs": [
    {
     "data": {
      "text/plain": [
       "array([-6.9754184e-03, -5.3491648e-03,  1.1907940e-02, ...,\n",
       "       -1.7028622e-02, -8.8358240e-05, -2.4030920e-02], dtype=float32)"
      ]
     },
     "execution_count": 27,
     "metadata": {},
     "output_type": "execute_result"
    }
   ],
   "source": [
    "embedding_eu"
   ]
  },
  {
   "cell_type": "code",
   "execution_count": 28,
   "metadata": {},
   "outputs": [
    {
     "data": {
      "text/plain": [
       "numpy.ndarray"
      ]
     },
     "execution_count": 28,
     "metadata": {},
     "output_type": "execute_result"
    }
   ],
   "source": [
    "type(embedding_eu)"
   ]
  },
  {
   "cell_type": "code",
   "execution_count": 29,
   "metadata": {},
   "outputs": [],
   "source": [
    "cat_eu = embed.embed_one_eu(\"cat\")\n",
    "gato_eu = embed.embed_one_eu(\"gato\")"
   ]
  },
  {
   "cell_type": "code",
   "execution_count": 30,
   "metadata": {},
   "outputs": [
    {
     "data": {
      "text/plain": [
       "0.8447363"
      ]
     },
     "execution_count": 30,
     "metadata": {},
     "output_type": "execute_result"
    }
   ],
   "source": [
    "np.dot(cat_eu, gato_eu)"
   ]
  },
  {
   "cell_type": "code",
   "execution_count": 31,
   "metadata": {},
   "outputs": [
    {
     "data": {
      "text/plain": [
       "0.76458704"
      ]
     },
     "execution_count": 31,
     "metadata": {},
     "output_type": "execute_result"
    }
   ],
   "source": [
    "np.dot(cat_eu, embedding_eu)"
   ]
  },
  {
   "cell_type": "code",
   "execution_count": 32,
   "metadata": {},
   "outputs": [],
   "source": [
    "catrun_en_eu = embed.embed_one_eu(\"The cat runs.\")\n",
    "catrun_es_eu = embed.embed_one_eu(\"El gato corre.\")\n",
    "dogwalk_en_eu = embed.embed_one_eu(\"The dog walks.\")\n",
    "dogwalk_es_eu = embed.embed_one_eu(\"El perro camina.\")"
   ]
  },
  {
   "cell_type": "code",
   "execution_count": 33,
   "metadata": {},
   "outputs": [
    {
     "data": {
      "text/plain": [
       "0.9224265"
      ]
     },
     "execution_count": 33,
     "metadata": {},
     "output_type": "execute_result"
    }
   ],
   "source": [
    "np.dot(catrun_en_eu, catrun_es_eu)"
   ]
  },
  {
   "cell_type": "code",
   "execution_count": 34,
   "metadata": {},
   "outputs": [
    {
     "data": {
      "text/plain": [
       "0.76505"
      ]
     },
     "execution_count": 34,
     "metadata": {},
     "output_type": "execute_result"
    }
   ],
   "source": [
    "np.dot(catrun_en_eu, embedding_eu)"
   ]
  },
  {
   "cell_type": "code",
   "execution_count": 35,
   "metadata": {},
   "outputs": [
    {
     "data": {
      "text/plain": [
       "0.92642254"
      ]
     },
     "execution_count": 35,
     "metadata": {},
     "output_type": "execute_result"
    }
   ],
   "source": [
    "np.dot(dogwalk_en_eu, dogwalk_es_eu)"
   ]
  },
  {
   "cell_type": "code",
   "execution_count": 36,
   "metadata": {},
   "outputs": [
    {
     "data": {
      "text/plain": [
       "0.8857316"
      ]
     },
     "execution_count": 36,
     "metadata": {},
     "output_type": "execute_result"
    }
   ],
   "source": [
    "np.dot(catrun_en_eu, dogwalk_en_eu)"
   ]
  },
  {
   "cell_type": "code",
   "execution_count": 37,
   "metadata": {},
   "outputs": [
    {
     "data": {
      "text/plain": [
       "0.89640963"
      ]
     },
     "execution_count": 37,
     "metadata": {},
     "output_type": "execute_result"
    }
   ],
   "source": [
    "np.dot(catrun_es_eu, dogwalk_es_eu)"
   ]
  },
  {
   "cell_type": "code",
   "execution_count": 38,
   "metadata": {},
   "outputs": [
    {
     "data": {
      "text/plain": [
       "0.84227383"
      ]
     },
     "execution_count": 38,
     "metadata": {},
     "output_type": "execute_result"
    }
   ],
   "source": [
    "np.dot(catrun_en_eu, dogwalk_es_eu)"
   ]
  },
  {
   "cell_type": "code",
   "execution_count": 39,
   "metadata": {},
   "outputs": [
    {
     "data": {
      "text/plain": [
       "0.8305994"
      ]
     },
     "execution_count": 39,
     "metadata": {},
     "output_type": "execute_result"
    }
   ],
   "source": [
    "np.dot(catrun_es_eu, dogwalk_en_eu)"
   ]
  },
  {
   "cell_type": "code",
   "execution_count": 40,
   "metadata": {},
   "outputs": [
    {
     "data": {
      "text/plain": [
       "(1536,)"
      ]
     },
     "execution_count": 40,
     "metadata": {},
     "output_type": "execute_result"
    }
   ],
   "source": [
    "catrun_en_eu.shape"
   ]
  },
  {
   "attachments": {},
   "cell_type": "markdown",
   "metadata": {},
   "source": [
    "### `embed.embed_many_eu`"
   ]
  },
  {
   "cell_type": "code",
   "execution_count": 41,
   "metadata": {},
   "outputs": [
    {
     "data": {
      "text/plain": [
       "(5, 1536)"
      ]
     },
     "execution_count": 41,
     "metadata": {},
     "output_type": "execute_result"
    }
   ],
   "source": [
    "many_eu = embed.embed_many_eu([\n",
    "    \"Your text string goes here\",\n",
    "    \"The cat runs.\",\n",
    "    \"El gato corre.\",\n",
    "    \"The dog walks.\",\n",
    "    \"El perro camina.\",\n",
    "])\n",
    "many.shape"
   ]
  },
  {
   "cell_type": "code",
   "execution_count": 42,
   "metadata": {},
   "outputs": [
    {
     "data": {
      "text/plain": [
       "array([[-6.9292835e-03, -5.3364220e-03,  1.1875892e-02, ...,\n",
       "        -1.7017407e-02, -4.5471323e-05, -2.4047505e-02],\n",
       "       [-9.1028195e-03, -4.1309856e-03, -1.1052059e-02, ...,\n",
       "        -2.4805024e-02,  5.5642496e-03, -2.4155278e-02],\n",
       "       [-1.4176358e-02, -2.9412776e-03,  3.8862362e-04, ...,\n",
       "        -8.0564748e-03,  4.8509724e-03, -6.8856594e-03],\n",
       "       [ 9.5758662e-03, -6.3913045e-03, -5.9445151e-03, ...,\n",
       "        -1.2389688e-02, -3.8638557e-04, -1.7123753e-02],\n",
       "       [ 3.4267190e-03, -7.4588875e-03,  1.3607008e-03, ...,\n",
       "         4.5837829e-04, -8.7634120e-03, -6.1512413e-03]], dtype=float32)"
      ]
     },
     "execution_count": 42,
     "metadata": {},
     "output_type": "execute_result"
    }
   ],
   "source": [
    "many_eu"
   ]
  },
  {
   "cell_type": "code",
   "execution_count": 43,
   "metadata": {},
   "outputs": [
    {
     "data": {
      "text/plain": [
       "0.7650132"
      ]
     },
     "execution_count": 43,
     "metadata": {},
     "output_type": "execute_result"
    }
   ],
   "source": [
    "np.dot(many_eu[0], many_eu[1])"
   ]
  },
  {
   "cell_type": "code",
   "execution_count": 44,
   "metadata": {},
   "outputs": [
    {
     "data": {
      "text/plain": [
       "0.9224265"
      ]
     },
     "execution_count": 44,
     "metadata": {},
     "output_type": "execute_result"
    }
   ],
   "source": [
    "np.dot(catrun_en_eu, catrun_es_eu)"
   ]
  },
  {
   "cell_type": "code",
   "execution_count": 45,
   "metadata": {},
   "outputs": [
    {
     "data": {
      "text/plain": [
       "array([[1.0000004 , 0.7650132 , 0.73435843, 0.75096744, 0.7232273 ],\n",
       "       [0.7650132 , 0.9999998 , 0.92241925, 0.88574004, 0.8423008 ],\n",
       "       [0.73435843, 0.92241925, 0.9999999 , 0.8304955 , 0.8964095 ],\n",
       "       [0.75096744, 0.88574004, 0.8304955 , 1.0000004 , 0.92637044],\n",
       "       [0.7232273 , 0.8423008 , 0.8964095 , 0.92637044, 1.0000002 ]],\n",
       "      dtype=float32)"
      ]
     },
     "execution_count": 45,
     "metadata": {},
     "output_type": "execute_result"
    }
   ],
   "source": [
    "table_eu = many_eu @ many_eu.transpose()\n",
    "table_eu"
   ]
  },
  {
   "cell_type": "code",
   "execution_count": 46,
   "metadata": {},
   "outputs": [
    {
     "data": {
      "text/html": [
       "<table>\n",
       "<tbody>\n",
       "<tr><td style=\"text-align: right;\">1.000000358</td><td style=\"text-align: right;\">0.765013218</td><td style=\"text-align: right;\">0.734358430</td><td style=\"text-align: right;\">0.750967443</td><td style=\"text-align: right;\">0.723227322</td></tr>\n",
       "<tr><td style=\"text-align: right;\">0.765013218</td><td style=\"text-align: right;\">0.999999821</td><td style=\"text-align: right;\">0.922419250</td><td style=\"text-align: right;\">0.885740042</td><td style=\"text-align: right;\">0.842300773</td></tr>\n",
       "<tr><td style=\"text-align: right;\">0.734358430</td><td style=\"text-align: right;\">0.922419250</td><td style=\"text-align: right;\">0.999999881</td><td style=\"text-align: right;\">0.830495477</td><td style=\"text-align: right;\">0.896409512</td></tr>\n",
       "<tr><td style=\"text-align: right;\">0.750967443</td><td style=\"text-align: right;\">0.885740042</td><td style=\"text-align: right;\">0.830495477</td><td style=\"text-align: right;\">1.000000358</td><td style=\"text-align: right;\">0.926370442</td></tr>\n",
       "<tr><td style=\"text-align: right;\">0.723227322</td><td style=\"text-align: right;\">0.842300773</td><td style=\"text-align: right;\">0.896409512</td><td style=\"text-align: right;\">0.926370442</td><td style=\"text-align: right;\">1.000000238</td></tr>\n",
       "</tbody>\n",
       "</table>"
      ],
      "text/plain": [
       "'<table>\\n<tbody>\\n<tr><td style=\"text-align: right;\">1.000000358</td><td style=\"text-align: right;\">0.765013218</td><td style=\"text-align: right;\">0.734358430</td><td style=\"text-align: right;\">0.750967443</td><td style=\"text-align: right;\">0.723227322</td></tr>\\n<tr><td style=\"text-align: right;\">0.765013218</td><td style=\"text-align: right;\">0.999999821</td><td style=\"text-align: right;\">0.922419250</td><td style=\"text-align: right;\">0.885740042</td><td style=\"text-align: right;\">0.842300773</td></tr>\\n<tr><td style=\"text-align: right;\">0.734358430</td><td style=\"text-align: right;\">0.922419250</td><td style=\"text-align: right;\">0.999999881</td><td style=\"text-align: right;\">0.830495477</td><td style=\"text-align: right;\">0.896409512</td></tr>\\n<tr><td style=\"text-align: right;\">0.750967443</td><td style=\"text-align: right;\">0.885740042</td><td style=\"text-align: right;\">0.830495477</td><td style=\"text-align: right;\">1.000000358</td><td style=\"text-align: right;\">0.926370442</td></tr>\\n<tr><td style=\"text-align: right;\">0.723227322</td><td style=\"text-align: right;\">0.842300773</td><td style=\"text-align: right;\">0.896409512</td><td style=\"text-align: right;\">0.926370442</td><td style=\"text-align: right;\">1.000000238</td></tr>\\n</tbody>\\n</table>'"
      ]
     },
     "execution_count": 46,
     "metadata": {},
     "output_type": "execute_result"
    }
   ],
   "source": [
    "tabulate(table_eu, tablefmt='html', floatfmt='.9f')"
   ]
  },
  {
   "cell_type": "code",
   "execution_count": null,
   "metadata": {},
   "outputs": [],
   "source": []
  }
 ],
 "metadata": {
  "kernelspec": {
   "display_name": "EmbeddingScratchwork",
   "language": "python",
   "name": "python3"
  },
  "language_info": {
   "codemirror_mode": {
    "name": "ipython",
    "version": 3
   },
   "file_extension": ".py",
   "mimetype": "text/x-python",
   "name": "python",
   "nbconvert_exporter": "python",
   "pygments_lexer": "ipython3",
   "version": "3.11.0"
  },
  "orig_nbformat": 4,
  "vscode": {
   "interpreter": {
    "hash": "4cf5c947be7cf026010f397dd15444466c4e3b0329ddb1d6d34b5de73f9f35dc"
   }
  }
 },
 "nbformat": 4,
 "nbformat_minor": 2
}
