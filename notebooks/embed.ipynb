{
 "cells": [
  {
   "attachments": {},
   "cell_type": "markdown",
   "metadata": {},
   "source": [
    "# Experiments with embeddings"
   ]
  },
  {
   "cell_type": "code",
   "execution_count": 1,
   "metadata": {},
   "outputs": [],
   "source": [
    "import numpy as np\n",
    "from tabulate import tabulate\n",
    "\n",
    "from embed import embed_one, embed_one_req, embed_many, embed_many_req"
   ]
  },
  {
   "cell_type": "code",
   "execution_count": 2,
   "metadata": {},
   "outputs": [
    {
     "data": {
      "text/plain": [
       "array([1., 2., 3., 4.], dtype=float32)"
      ]
     },
     "execution_count": 2,
     "metadata": {},
     "output_type": "execute_result"
    }
   ],
   "source": [
    "np.array([1, 2, 3, 4], dtype=np.float32)"
   ]
  },
  {
   "cell_type": "code",
   "execution_count": 3,
   "metadata": {},
   "outputs": [],
   "source": [
    "embedding = embed_one(\"Your text string goes here\")"
   ]
  },
  {
   "cell_type": "code",
   "execution_count": 4,
   "metadata": {},
   "outputs": [
    {
     "data": {
      "text/plain": [
       "array([-6.9754184e-03, -5.3491648e-03,  1.1907940e-02, ...,\n",
       "       -1.7028622e-02, -8.8358240e-05, -2.4030920e-02], dtype=float32)"
      ]
     },
     "execution_count": 4,
     "metadata": {},
     "output_type": "execute_result"
    }
   ],
   "source": [
    "embedding"
   ]
  },
  {
   "cell_type": "code",
   "execution_count": 5,
   "metadata": {},
   "outputs": [
    {
     "data": {
      "text/plain": [
       "numpy.ndarray"
      ]
     },
     "execution_count": 5,
     "metadata": {},
     "output_type": "execute_result"
    }
   ],
   "source": [
    "type(embedding)"
   ]
  },
  {
   "cell_type": "code",
   "execution_count": 6,
   "metadata": {},
   "outputs": [],
   "source": [
    "cat = embed_one(\"cat\")\n",
    "gato = embed_one(\"gato\")"
   ]
  },
  {
   "cell_type": "code",
   "execution_count": 7,
   "metadata": {},
   "outputs": [
    {
     "data": {
      "text/plain": [
       "0.8447504"
      ]
     },
     "execution_count": 7,
     "metadata": {},
     "output_type": "execute_result"
    }
   ],
   "source": [
    "np.dot(cat, gato)"
   ]
  },
  {
   "cell_type": "code",
   "execution_count": 8,
   "metadata": {},
   "outputs": [
    {
     "data": {
      "text/plain": [
       "0.76458704"
      ]
     },
     "execution_count": 8,
     "metadata": {},
     "output_type": "execute_result"
    }
   ],
   "source": [
    "np.dot(cat, embedding)"
   ]
  },
  {
   "cell_type": "code",
   "execution_count": 9,
   "metadata": {},
   "outputs": [],
   "source": [
    "catrun_en = embed_one(\"The cat runs.\")\n",
    "catrun_es = embed_one(\"El gato corre.\")\n",
    "dogwalk_en = embed_one(\"The dog walks.\")\n",
    "dogwalk_es = embed_one(\"El perro camina.\")"
   ]
  },
  {
   "cell_type": "code",
   "execution_count": 10,
   "metadata": {},
   "outputs": [
    {
     "data": {
      "text/plain": [
       "0.92243814"
      ]
     },
     "execution_count": 10,
     "metadata": {},
     "output_type": "execute_result"
    }
   ],
   "source": [
    "np.dot(catrun_en, catrun_es)"
   ]
  },
  {
   "cell_type": "code",
   "execution_count": 11,
   "metadata": {},
   "outputs": [
    {
     "data": {
      "text/plain": [
       "0.7650094"
      ]
     },
     "execution_count": 11,
     "metadata": {},
     "output_type": "execute_result"
    }
   ],
   "source": [
    "np.dot(catrun_en, embedding)"
   ]
  },
  {
   "cell_type": "code",
   "execution_count": 12,
   "metadata": {},
   "outputs": [
    {
     "data": {
      "text/plain": [
       "0.92638606"
      ]
     },
     "execution_count": 12,
     "metadata": {},
     "output_type": "execute_result"
    }
   ],
   "source": [
    "np.dot(dogwalk_en, dogwalk_es)"
   ]
  },
  {
   "cell_type": "code",
   "execution_count": 13,
   "metadata": {},
   "outputs": [
    {
     "data": {
      "text/plain": [
       "0.88560975"
      ]
     },
     "execution_count": 13,
     "metadata": {},
     "output_type": "execute_result"
    }
   ],
   "source": [
    "np.dot(catrun_en, dogwalk_en)"
   ]
  },
  {
   "cell_type": "code",
   "execution_count": 14,
   "metadata": {},
   "outputs": [
    {
     "data": {
      "text/plain": [
       "0.89640963"
      ]
     },
     "execution_count": 14,
     "metadata": {},
     "output_type": "execute_result"
    }
   ],
   "source": [
    "np.dot(catrun_es, dogwalk_es)"
   ]
  },
  {
   "cell_type": "code",
   "execution_count": 15,
   "metadata": {},
   "outputs": [
    {
     "data": {
      "text/plain": [
       "0.8421978"
      ]
     },
     "execution_count": 15,
     "metadata": {},
     "output_type": "execute_result"
    }
   ],
   "source": [
    "np.dot(catrun_en, dogwalk_es)"
   ]
  },
  {
   "cell_type": "code",
   "execution_count": 16,
   "metadata": {},
   "outputs": [
    {
     "data": {
      "text/plain": [
       "0.8305687"
      ]
     },
     "execution_count": 16,
     "metadata": {},
     "output_type": "execute_result"
    }
   ],
   "source": [
    "np.dot(catrun_es, dogwalk_en)"
   ]
  },
  {
   "cell_type": "code",
   "execution_count": 17,
   "metadata": {},
   "outputs": [
    {
     "data": {
      "text/plain": [
       "(1536,)"
      ]
     },
     "execution_count": 17,
     "metadata": {},
     "output_type": "execute_result"
    }
   ],
   "source": [
    "catrun_en.shape"
   ]
  },
  {
   "cell_type": "code",
   "execution_count": 18,
   "metadata": {},
   "outputs": [
    {
     "data": {
      "text/plain": [
       "(5, 1536)"
      ]
     },
     "execution_count": 18,
     "metadata": {},
     "output_type": "execute_result"
    }
   ],
   "source": [
    "many = embed_many([\n",
    "    \"Your text string goes here\",\n",
    "    \"The cat runs.\",\n",
    "    \"El gato corre.\",\n",
    "    \"The dog walks.\",\n",
    "    \"El perro camina.\",\n",
    "])\n",
    "many.shape"
   ]
  },
  {
   "cell_type": "code",
   "execution_count": 19,
   "metadata": {},
   "outputs": [
    {
     "data": {
      "text/plain": [
       "array([[-6.9292835e-03, -5.3364220e-03,  1.1875892e-02, ...,\n",
       "        -1.7017407e-02, -4.5471323e-05, -2.4047505e-02],\n",
       "       [-9.0776253e-03, -4.0546730e-03, -1.1039667e-02, ...,\n",
       "        -2.4818547e-02,  5.5739805e-03, -2.4181521e-02],\n",
       "       [-1.4264697e-02, -2.9127449e-03,  4.0621794e-04, ...,\n",
       "        -8.0626551e-03,  4.8730331e-03, -6.8412321e-03],\n",
       "       [ 9.6240090e-03, -6.3674315e-03, -5.9017539e-03, ...,\n",
       "        -1.2380062e-02, -3.3599290e-04, -1.7081190e-02],\n",
       "       [ 3.3871806e-03, -7.5423303e-03,  1.3486285e-03, ...,\n",
       "         4.5071356e-04, -8.7910602e-03, -6.1375089e-03]], dtype=float32)"
      ]
     },
     "execution_count": 19,
     "metadata": {},
     "output_type": "execute_result"
    }
   ],
   "source": [
    "many"
   ]
  },
  {
   "cell_type": "code",
   "execution_count": 20,
   "metadata": {},
   "outputs": [
    {
     "data": {
      "text/plain": [
       "0.7649706"
      ]
     },
     "execution_count": 20,
     "metadata": {},
     "output_type": "execute_result"
    }
   ],
   "source": [
    "np.dot(many[0], many[1])"
   ]
  },
  {
   "cell_type": "code",
   "execution_count": 21,
   "metadata": {},
   "outputs": [
    {
     "data": {
      "text/plain": [
       "0.92243814"
      ]
     },
     "execution_count": 21,
     "metadata": {},
     "output_type": "execute_result"
    }
   ],
   "source": [
    "np.dot(catrun_en, catrun_es)"
   ]
  },
  {
   "cell_type": "code",
   "execution_count": 22,
   "metadata": {},
   "outputs": [
    {
     "data": {
      "text/plain": [
       "array([[1, 2],\n",
       "       [3, 4]])"
      ]
     },
     "execution_count": 22,
     "metadata": {},
     "output_type": "execute_result"
    }
   ],
   "source": [
    "small = np.array([[1, 2], [3, 4]])\n",
    "small"
   ]
  },
  {
   "cell_type": "code",
   "execution_count": 23,
   "metadata": {},
   "outputs": [
    {
     "data": {
      "text/plain": [
       "array([[1, 3],\n",
       "       [2, 4]])"
      ]
     },
     "execution_count": 23,
     "metadata": {},
     "output_type": "execute_result"
    }
   ],
   "source": [
    "small.transpose()"
   ]
  },
  {
   "cell_type": "code",
   "execution_count": 24,
   "metadata": {},
   "outputs": [
    {
     "data": {
      "text/plain": [
       "array([[1.0000004 , 0.7649705 , 0.7343621 , 0.7510288 , 0.7232301 ],\n",
       "       [0.7649705 , 0.9999997 , 0.92237246, 0.88573134, 0.8423364 ],\n",
       "       [0.7343621 , 0.92237246, 1.0000001 , 0.83060044, 0.89653635],\n",
       "       [0.7510288 , 0.88573134, 0.83060044, 1.0000002 , 0.92640686],\n",
       "       [0.7232301 , 0.8423364 , 0.89653635, 0.92640686, 1.0000002 ]],\n",
       "      dtype=float32)"
      ]
     },
     "execution_count": 24,
     "metadata": {},
     "output_type": "execute_result"
    }
   ],
   "source": [
    "table = many @ many.transpose()\n",
    "table"
   ]
  },
  {
   "cell_type": "code",
   "execution_count": 25,
   "metadata": {},
   "outputs": [
    {
     "data": {
      "text/html": [
       "<table>\n",
       "<tbody>\n",
       "<tr><td style=\"text-align: right;\">1.000000358</td><td style=\"text-align: right;\">0.764970481</td><td style=\"text-align: right;\">0.734362125</td><td style=\"text-align: right;\">0.751028776</td><td style=\"text-align: right;\">0.723230124</td></tr>\n",
       "<tr><td style=\"text-align: right;\">0.764970481</td><td style=\"text-align: right;\">0.999999702</td><td style=\"text-align: right;\">0.922372460</td><td style=\"text-align: right;\">0.885731339</td><td style=\"text-align: right;\">0.842336416</td></tr>\n",
       "<tr><td style=\"text-align: right;\">0.734362125</td><td style=\"text-align: right;\">0.922372460</td><td style=\"text-align: right;\">1.000000119</td><td style=\"text-align: right;\">0.830600441</td><td style=\"text-align: right;\">0.896536350</td></tr>\n",
       "<tr><td style=\"text-align: right;\">0.751028776</td><td style=\"text-align: right;\">0.885731339</td><td style=\"text-align: right;\">0.830600441</td><td style=\"text-align: right;\">1.000000238</td><td style=\"text-align: right;\">0.926406860</td></tr>\n",
       "<tr><td style=\"text-align: right;\">0.723230124</td><td style=\"text-align: right;\">0.842336416</td><td style=\"text-align: right;\">0.896536350</td><td style=\"text-align: right;\">0.926406860</td><td style=\"text-align: right;\">1.000000238</td></tr>\n",
       "</tbody>\n",
       "</table>"
      ],
      "text/plain": [
       "'<table>\\n<tbody>\\n<tr><td style=\"text-align: right;\">1.000000358</td><td style=\"text-align: right;\">0.764970481</td><td style=\"text-align: right;\">0.734362125</td><td style=\"text-align: right;\">0.751028776</td><td style=\"text-align: right;\">0.723230124</td></tr>\\n<tr><td style=\"text-align: right;\">0.764970481</td><td style=\"text-align: right;\">0.999999702</td><td style=\"text-align: right;\">0.922372460</td><td style=\"text-align: right;\">0.885731339</td><td style=\"text-align: right;\">0.842336416</td></tr>\\n<tr><td style=\"text-align: right;\">0.734362125</td><td style=\"text-align: right;\">0.922372460</td><td style=\"text-align: right;\">1.000000119</td><td style=\"text-align: right;\">0.830600441</td><td style=\"text-align: right;\">0.896536350</td></tr>\\n<tr><td style=\"text-align: right;\">0.751028776</td><td style=\"text-align: right;\">0.885731339</td><td style=\"text-align: right;\">0.830600441</td><td style=\"text-align: right;\">1.000000238</td><td style=\"text-align: right;\">0.926406860</td></tr>\\n<tr><td style=\"text-align: right;\">0.723230124</td><td style=\"text-align: right;\">0.842336416</td><td style=\"text-align: right;\">0.896536350</td><td style=\"text-align: right;\">0.926406860</td><td style=\"text-align: right;\">1.000000238</td></tr>\\n</tbody>\\n</table>'"
      ]
     },
     "execution_count": 25,
     "metadata": {},
     "output_type": "execute_result"
    }
   ],
   "source": [
    "tabulate(table, tablefmt='html', floatfmt='.9f')"
   ]
  },
  {
   "cell_type": "code",
   "execution_count": 26,
   "metadata": {},
   "outputs": [
    {
     "data": {
      "text/plain": [
       "array([[ 9.5597431e-03, -6.3604913e-03, -5.9328689e-03, ...,\n",
       "        -1.2309198e-02, -3.6862658e-04, -1.7130248e-02],\n",
       "       [ 3.3449344e-03, -8.1113884e-03,  1.7457254e-03, ...,\n",
       "         9.9317353e-05, -9.5703155e-03, -5.5582649e-03]], dtype=float32)"
      ]
     },
     "execution_count": 26,
     "metadata": {},
     "output_type": "execute_result"
    }
   ],
   "source": [
    "embeddings = embed_many_req([\"The dog walks.\", \"El perro camina.\"])\n",
    "embeddings"
   ]
  },
  {
   "cell_type": "code",
   "execution_count": 27,
   "metadata": {},
   "outputs": [
    {
     "data": {
      "text/plain": [
       "0.9269187"
      ]
     },
     "execution_count": 27,
     "metadata": {},
     "output_type": "execute_result"
    }
   ],
   "source": [
    "np.dot(embeddings[0], embeddings[1])"
   ]
  },
  {
   "cell_type": "code",
   "execution_count": 28,
   "metadata": {},
   "outputs": [
    {
     "data": {
      "text/plain": [
       "0.9269187"
      ]
     },
     "execution_count": 28,
     "metadata": {},
     "output_type": "execute_result"
    }
   ],
   "source": [
    "dogwalk_en_req = embed_one_req(\"The dog walks.\")\n",
    "dogwalk_es_req = embed_one_req(\"El perro camina.\")\n",
    "np.dot(dogwalk_en_req, dogwalk_es_req)"
   ]
  }
 ],
 "metadata": {
  "kernelspec": {
   "display_name": "EmbeddingScratchwork",
   "language": "python",
   "name": "python3"
  },
  "language_info": {
   "codemirror_mode": {
    "name": "ipython",
    "version": 3
   },
   "file_extension": ".py",
   "mimetype": "text/x-python",
   "name": "python",
   "nbconvert_exporter": "python",
   "pygments_lexer": "ipython3",
   "version": "3.11.0"
  },
  "orig_nbformat": 4,
  "vscode": {
   "interpreter": {
    "hash": "4cf5c947be7cf026010f397dd15444466c4e3b0329ddb1d6d34b5de73f9f35dc"
   }
  }
 },
 "nbformat": 4,
 "nbformat_minor": 2
}
