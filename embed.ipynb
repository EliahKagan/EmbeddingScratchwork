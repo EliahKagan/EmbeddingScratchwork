{
 "cells": [
  {
   "attachments": {},
   "cell_type": "markdown",
   "metadata": {},
   "source": [
    "# Experiments with embeddings"
   ]
  },
  {
   "cell_type": "code",
   "execution_count": 1,
   "metadata": {},
   "outputs": [],
   "source": [
    "import numpy as np\n",
    "from tabulate import tabulate\n",
    "\n",
    "from embed import embed_one, embed_many"
   ]
  },
  {
   "cell_type": "code",
   "execution_count": 2,
   "metadata": {},
   "outputs": [
    {
     "data": {
      "text/plain": [
       "array([1., 2., 3., 4.], dtype=float32)"
      ]
     },
     "execution_count": 2,
     "metadata": {},
     "output_type": "execute_result"
    }
   ],
   "source": [
    "np.array([1, 2, 3, 4], dtype=np.float32)"
   ]
  },
  {
   "cell_type": "code",
   "execution_count": 3,
   "metadata": {},
   "outputs": [],
   "source": [
    "embedding = embed_one(\"Your text string goes here\")"
   ]
  },
  {
   "cell_type": "code",
   "execution_count": 4,
   "metadata": {},
   "outputs": [
    {
     "data": {
      "text/plain": [
       "array([-6.9754184e-03, -5.3491648e-03,  1.1907940e-02, ...,\n",
       "       -1.7028622e-02, -8.8358240e-05, -2.4030920e-02], dtype=float32)"
      ]
     },
     "execution_count": 4,
     "metadata": {},
     "output_type": "execute_result"
    }
   ],
   "source": [
    "embedding"
   ]
  },
  {
   "cell_type": "code",
   "execution_count": 5,
   "metadata": {},
   "outputs": [
    {
     "data": {
      "text/plain": [
       "numpy.ndarray"
      ]
     },
     "execution_count": 5,
     "metadata": {},
     "output_type": "execute_result"
    }
   ],
   "source": [
    "type(embedding)"
   ]
  },
  {
   "cell_type": "code",
   "execution_count": 6,
   "metadata": {},
   "outputs": [],
   "source": [
    "cat = embed_one(\"cat\")\n",
    "gato = embed_one(\"gato\")"
   ]
  },
  {
   "cell_type": "code",
   "execution_count": 7,
   "metadata": {},
   "outputs": [
    {
     "data": {
      "text/plain": [
       "0.8447504"
      ]
     },
     "execution_count": 7,
     "metadata": {},
     "output_type": "execute_result"
    }
   ],
   "source": [
    "np.dot(cat, gato)"
   ]
  },
  {
   "cell_type": "code",
   "execution_count": 8,
   "metadata": {},
   "outputs": [
    {
     "data": {
      "text/plain": [
       "0.76458704"
      ]
     },
     "execution_count": 8,
     "metadata": {},
     "output_type": "execute_result"
    }
   ],
   "source": [
    "np.dot(cat, embedding)"
   ]
  },
  {
   "cell_type": "code",
   "execution_count": 9,
   "metadata": {},
   "outputs": [],
   "source": [
    "catrun_en = embed_one(\"The cat runs.\")\n",
    "catrun_es = embed_one(\"El gato corre.\")\n",
    "dogwalk_en = embed_one(\"The dog walks.\")\n",
    "dogwalk_es = embed_one(\"El perro camina.\")"
   ]
  },
  {
   "cell_type": "code",
   "execution_count": 10,
   "metadata": {},
   "outputs": [
    {
     "data": {
      "text/plain": [
       "0.9224324"
      ]
     },
     "execution_count": 10,
     "metadata": {},
     "output_type": "execute_result"
    }
   ],
   "source": [
    "np.dot(catrun_en, catrun_es)"
   ]
  },
  {
   "cell_type": "code",
   "execution_count": 11,
   "metadata": {},
   "outputs": [
    {
     "data": {
      "text/plain": [
       "0.7650094"
      ]
     },
     "execution_count": 11,
     "metadata": {},
     "output_type": "execute_result"
    }
   ],
   "source": [
    "np.dot(catrun_en, embedding)"
   ]
  },
  {
   "cell_type": "code",
   "execution_count": 12,
   "metadata": {},
   "outputs": [
    {
     "data": {
      "text/plain": [
       "0.92638606"
      ]
     },
     "execution_count": 12,
     "metadata": {},
     "output_type": "execute_result"
    }
   ],
   "source": [
    "np.dot(dogwalk_en, dogwalk_es)"
   ]
  },
  {
   "cell_type": "code",
   "execution_count": 13,
   "metadata": {},
   "outputs": [
    {
     "data": {
      "text/plain": [
       "0.88560975"
      ]
     },
     "execution_count": 13,
     "metadata": {},
     "output_type": "execute_result"
    }
   ],
   "source": [
    "np.dot(catrun_en, dogwalk_en)"
   ]
  },
  {
   "cell_type": "code",
   "execution_count": 14,
   "metadata": {},
   "outputs": [
    {
     "data": {
      "text/plain": [
       "0.89643717"
      ]
     },
     "execution_count": 14,
     "metadata": {},
     "output_type": "execute_result"
    }
   ],
   "source": [
    "np.dot(catrun_es, dogwalk_es)"
   ]
  },
  {
   "cell_type": "code",
   "execution_count": 15,
   "metadata": {},
   "outputs": [
    {
     "data": {
      "text/plain": [
       "0.8421978"
      ]
     },
     "execution_count": 15,
     "metadata": {},
     "output_type": "execute_result"
    }
   ],
   "source": [
    "np.dot(catrun_en, dogwalk_es)"
   ]
  },
  {
   "cell_type": "code",
   "execution_count": 16,
   "metadata": {},
   "outputs": [
    {
     "data": {
      "text/plain": [
       "0.8305751"
      ]
     },
     "execution_count": 16,
     "metadata": {},
     "output_type": "execute_result"
    }
   ],
   "source": [
    "np.dot(catrun_es, dogwalk_en)"
   ]
  },
  {
   "cell_type": "code",
   "execution_count": 17,
   "metadata": {},
   "outputs": [
    {
     "data": {
      "text/plain": [
       "(1536,)"
      ]
     },
     "execution_count": 17,
     "metadata": {},
     "output_type": "execute_result"
    }
   ],
   "source": [
    "catrun_en.shape"
   ]
  },
  {
   "cell_type": "code",
   "execution_count": 18,
   "metadata": {},
   "outputs": [
    {
     "data": {
      "text/plain": [
       "(5, 1536)"
      ]
     },
     "execution_count": 18,
     "metadata": {},
     "output_type": "execute_result"
    }
   ],
   "source": [
    "many = embed_many([\n",
    "    \"Your text string goes here\",\n",
    "    \"The cat runs.\",\n",
    "    \"El gato corre.\",\n",
    "    \"The dog walks.\",\n",
    "    \"El perro camina.\",\n",
    "])\n",
    "many.shape"
   ]
  },
  {
   "cell_type": "code",
   "execution_count": 19,
   "metadata": {},
   "outputs": [
    {
     "data": {
      "text/plain": [
       "array([[-6.92928350e-03, -5.33642201e-03,  1.18758921e-02, ...,\n",
       "        -1.70174073e-02, -4.54713227e-05, -2.40475051e-02],\n",
       "       [-9.06457007e-03, -4.09244280e-03, -1.10980421e-02, ...,\n",
       "        -2.47713905e-02,  5.54583408e-03, -2.42741778e-02],\n",
       "       [-1.42147215e-02, -2.92078988e-03,  3.90018802e-04, ...,\n",
       "        -8.08201265e-03,  4.93654609e-03, -6.90483581e-03],\n",
       "       [ 9.59877204e-03, -6.36116648e-03, -5.89548331e-03, ...,\n",
       "        -1.23801986e-02, -3.47282301e-04, -1.70813799e-02],\n",
       "       [ 3.45983449e-03, -7.59354141e-03,  1.42495893e-03, ...,\n",
       "         4.55097703e-04, -8.73538014e-03, -6.12724526e-03]], dtype=float32)"
      ]
     },
     "execution_count": 19,
     "metadata": {},
     "output_type": "execute_result"
    }
   ],
   "source": [
    "many"
   ]
  },
  {
   "cell_type": "code",
   "execution_count": 20,
   "metadata": {},
   "outputs": [
    {
     "data": {
      "text/plain": [
       "0.7649304"
      ]
     },
     "execution_count": 20,
     "metadata": {},
     "output_type": "execute_result"
    }
   ],
   "source": [
    "np.dot(many[0], many[1])"
   ]
  },
  {
   "cell_type": "code",
   "execution_count": 21,
   "metadata": {},
   "outputs": [
    {
     "data": {
      "text/plain": [
       "0.9224324"
      ]
     },
     "execution_count": 21,
     "metadata": {},
     "output_type": "execute_result"
    }
   ],
   "source": [
    "np.dot(catrun_en, catrun_es)"
   ]
  },
  {
   "cell_type": "code",
   "execution_count": 22,
   "metadata": {},
   "outputs": [
    {
     "data": {
      "text/plain": [
       "array([[1, 2],\n",
       "       [3, 4]])"
      ]
     },
     "execution_count": 22,
     "metadata": {},
     "output_type": "execute_result"
    }
   ],
   "source": [
    "small = np.array([[1, 2], [3, 4]])\n",
    "small"
   ]
  },
  {
   "cell_type": "code",
   "execution_count": 23,
   "metadata": {},
   "outputs": [
    {
     "data": {
      "text/plain": [
       "array([[1, 3],\n",
       "       [2, 4]])"
      ]
     },
     "execution_count": 23,
     "metadata": {},
     "output_type": "execute_result"
    }
   ],
   "source": [
    "small.transpose()"
   ]
  },
  {
   "cell_type": "code",
   "execution_count": 24,
   "metadata": {},
   "outputs": [
    {
     "data": {
      "text/plain": [
       "array([[1.0000004 , 0.76493055, 0.73437065, 0.7510821 , 0.7233679 ],\n",
       "       [0.76493055, 1.0000005 , 0.92238605, 0.8856448 , 0.8423538 ],\n",
       "       [0.73437065, 0.92238605, 1.0000001 , 0.8305839 , 0.8966306 ],\n",
       "       [0.7510821 , 0.8856448 , 0.8305839 , 1.0000004 , 0.9264928 ],\n",
       "       [0.7233679 , 0.8423538 , 0.8966306 , 0.9264928 , 0.99999976]],\n",
       "      dtype=float32)"
      ]
     },
     "execution_count": 24,
     "metadata": {},
     "output_type": "execute_result"
    }
   ],
   "source": [
    "table = many @ many.transpose()\n",
    "table"
   ]
  },
  {
   "cell_type": "code",
   "execution_count": 25,
   "metadata": {},
   "outputs": [
    {
     "data": {
      "text/html": [
       "<table>\n",
       "<tbody>\n",
       "<tr><td style=\"text-align: right;\">1.000000358</td><td style=\"text-align: right;\">0.764930546</td><td style=\"text-align: right;\">0.734370649</td><td style=\"text-align: right;\">0.751082122</td><td style=\"text-align: right;\">0.723367929</td></tr>\n",
       "<tr><td style=\"text-align: right;\">0.764930546</td><td style=\"text-align: right;\">1.000000477</td><td style=\"text-align: right;\">0.922386050</td><td style=\"text-align: right;\">0.885644794</td><td style=\"text-align: right;\">0.842353821</td></tr>\n",
       "<tr><td style=\"text-align: right;\">0.734370649</td><td style=\"text-align: right;\">0.922386050</td><td style=\"text-align: right;\">1.000000119</td><td style=\"text-align: right;\">0.830583870</td><td style=\"text-align: right;\">0.896630585</td></tr>\n",
       "<tr><td style=\"text-align: right;\">0.751082122</td><td style=\"text-align: right;\">0.885644794</td><td style=\"text-align: right;\">0.830583870</td><td style=\"text-align: right;\">1.000000358</td><td style=\"text-align: right;\">0.926492810</td></tr>\n",
       "<tr><td style=\"text-align: right;\">0.723367929</td><td style=\"text-align: right;\">0.842353821</td><td style=\"text-align: right;\">0.896630585</td><td style=\"text-align: right;\">0.926492810</td><td style=\"text-align: right;\">0.999999762</td></tr>\n",
       "</tbody>\n",
       "</table>"
      ],
      "text/plain": [
       "'<table>\\n<tbody>\\n<tr><td style=\"text-align: right;\">1.000000358</td><td style=\"text-align: right;\">0.764930546</td><td style=\"text-align: right;\">0.734370649</td><td style=\"text-align: right;\">0.751082122</td><td style=\"text-align: right;\">0.723367929</td></tr>\\n<tr><td style=\"text-align: right;\">0.764930546</td><td style=\"text-align: right;\">1.000000477</td><td style=\"text-align: right;\">0.922386050</td><td style=\"text-align: right;\">0.885644794</td><td style=\"text-align: right;\">0.842353821</td></tr>\\n<tr><td style=\"text-align: right;\">0.734370649</td><td style=\"text-align: right;\">0.922386050</td><td style=\"text-align: right;\">1.000000119</td><td style=\"text-align: right;\">0.830583870</td><td style=\"text-align: right;\">0.896630585</td></tr>\\n<tr><td style=\"text-align: right;\">0.751082122</td><td style=\"text-align: right;\">0.885644794</td><td style=\"text-align: right;\">0.830583870</td><td style=\"text-align: right;\">1.000000358</td><td style=\"text-align: right;\">0.926492810</td></tr>\\n<tr><td style=\"text-align: right;\">0.723367929</td><td style=\"text-align: right;\">0.842353821</td><td style=\"text-align: right;\">0.896630585</td><td style=\"text-align: right;\">0.926492810</td><td style=\"text-align: right;\">0.999999762</td></tr>\\n</tbody>\\n</table>'"
      ]
     },
     "execution_count": 25,
     "metadata": {},
     "output_type": "execute_result"
    }
   ],
   "source": [
    "tabulate(table, tablefmt='html', floatfmt='.9f')"
   ]
  }
 ],
 "metadata": {
  "kernelspec": {
   "display_name": "EmbeddingScratchwork",
   "language": "python",
   "name": "python3"
  },
  "language_info": {
   "codemirror_mode": {
    "name": "ipython",
    "version": 3
   },
   "file_extension": ".py",
   "mimetype": "text/x-python",
   "name": "python",
   "nbconvert_exporter": "python",
   "pygments_lexer": "ipython3",
   "version": "3.11.0"
  },
  "orig_nbformat": 4,
  "vscode": {
   "interpreter": {
    "hash": "4cf5c947be7cf026010f397dd15444466c4e3b0329ddb1d6d34b5de73f9f35dc"
   }
  }
 },
 "nbformat": 4,
 "nbformat_minor": 2
}
